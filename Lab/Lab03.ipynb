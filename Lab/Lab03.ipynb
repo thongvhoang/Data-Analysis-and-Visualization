{
  "nbformat": 4,
  "nbformat_minor": 0,
  "metadata": {
    "colab": {
      "name": "45_18521462_VOHOANGTHONG_Lab3.ipynb",
      "provenance": [],
      "collapsed_sections": []
    },
    "kernelspec": {
      "name": "python3",
      "display_name": "Python 3"
    }
  },
  "cells": [
    {
      "cell_type": "markdown",
      "metadata": {
        "id": "Ic0m0uN5iSS1"
      },
      "source": [
        "**Câu 1. Tạo dataframe (df) lưu trữ dataset tại đường dẫn trên (chọn cách đọc load từ\n",
        "internet). Xuất 10 samples bất kỳ. Dataset có bao nhiêu sample, số lượng bao\n",
        "nhiêu feature.**"
      ]
    },
    {
      "cell_type": "code",
      "metadata": {
        "id": "kxgHOql9h7ae",
        "outputId": "5e3d8223-e81f-437b-e0cc-b2e760e5c53c",
        "colab": {
          "base_uri": "https://localhost:8080/",
          "height": 413
        }
      },
      "source": [
        "import pandas as pd\n",
        "import io\n",
        "from io import BytesIO\n",
        "from urllib.request import Request, urlopen\n",
        "link = 'https://raw.githubusercontent.com/datasethub/ds105/master/EDA_automobile.csv'\n",
        "url = Request(link, headers={'User-Agent': 'Mozilla/5.0'})\n",
        "df = pd.read_csv(BytesIO(urlopen(url).read()))\n",
        "df.sample(10)"
      ],
      "execution_count": 1,
      "outputs": [
        {
          "output_type": "execute_result",
          "data": {
            "text/html": [
              "<div>\n",
              "<style scoped>\n",
              "    .dataframe tbody tr th:only-of-type {\n",
              "        vertical-align: middle;\n",
              "    }\n",
              "\n",
              "    .dataframe tbody tr th {\n",
              "        vertical-align: top;\n",
              "    }\n",
              "\n",
              "    .dataframe thead th {\n",
              "        text-align: right;\n",
              "    }\n",
              "</style>\n",
              "<table border=\"1\" class=\"dataframe\">\n",
              "  <thead>\n",
              "    <tr style=\"text-align: right;\">\n",
              "      <th></th>\n",
              "      <th>symboling</th>\n",
              "      <th>normalized-losses</th>\n",
              "      <th>make</th>\n",
              "      <th>aspiration</th>\n",
              "      <th>num-of-doors</th>\n",
              "      <th>body-style</th>\n",
              "      <th>drive-wheels</th>\n",
              "      <th>engine-location</th>\n",
              "      <th>wheel-base</th>\n",
              "      <th>length</th>\n",
              "      <th>width</th>\n",
              "      <th>height</th>\n",
              "      <th>curb-weight</th>\n",
              "      <th>engine-type</th>\n",
              "      <th>num-of-cylinders</th>\n",
              "      <th>engine-size</th>\n",
              "      <th>fuel-system</th>\n",
              "      <th>bore</th>\n",
              "      <th>stroke</th>\n",
              "      <th>compression-ratio</th>\n",
              "      <th>horsepower</th>\n",
              "      <th>peak-rpm</th>\n",
              "      <th>city-mpg</th>\n",
              "      <th>highway-mpg</th>\n",
              "      <th>price</th>\n",
              "      <th>city-L/100km</th>\n",
              "      <th>horsepower-binned</th>\n",
              "      <th>diesel</th>\n",
              "      <th>gas</th>\n",
              "    </tr>\n",
              "  </thead>\n",
              "  <tbody>\n",
              "    <tr>\n",
              "      <th>4</th>\n",
              "      <td>2</td>\n",
              "      <td>164</td>\n",
              "      <td>audi</td>\n",
              "      <td>std</td>\n",
              "      <td>four</td>\n",
              "      <td>sedan</td>\n",
              "      <td>4wd</td>\n",
              "      <td>front</td>\n",
              "      <td>99.4</td>\n",
              "      <td>0.848630</td>\n",
              "      <td>0.922222</td>\n",
              "      <td>54.3</td>\n",
              "      <td>2824</td>\n",
              "      <td>ohc</td>\n",
              "      <td>five</td>\n",
              "      <td>136</td>\n",
              "      <td>mpfi</td>\n",
              "      <td>3.19</td>\n",
              "      <td>3.40</td>\n",
              "      <td>8.0</td>\n",
              "      <td>115.0</td>\n",
              "      <td>5500.0</td>\n",
              "      <td>18</td>\n",
              "      <td>22</td>\n",
              "      <td>17450</td>\n",
              "      <td>13.055556</td>\n",
              "      <td>Medium</td>\n",
              "      <td>0</td>\n",
              "      <td>1</td>\n",
              "    </tr>\n",
              "    <tr>\n",
              "      <th>62</th>\n",
              "      <td>0</td>\n",
              "      <td>118</td>\n",
              "      <td>mazda</td>\n",
              "      <td>std</td>\n",
              "      <td>four</td>\n",
              "      <td>sedan</td>\n",
              "      <td>rwd</td>\n",
              "      <td>front</td>\n",
              "      <td>104.9</td>\n",
              "      <td>0.840942</td>\n",
              "      <td>0.918056</td>\n",
              "      <td>54.4</td>\n",
              "      <td>2670</td>\n",
              "      <td>ohc</td>\n",
              "      <td>four</td>\n",
              "      <td>140</td>\n",
              "      <td>mpfi</td>\n",
              "      <td>3.76</td>\n",
              "      <td>3.16</td>\n",
              "      <td>8.0</td>\n",
              "      <td>120.0</td>\n",
              "      <td>5000.0</td>\n",
              "      <td>19</td>\n",
              "      <td>27</td>\n",
              "      <td>18280</td>\n",
              "      <td>12.368421</td>\n",
              "      <td>Medium</td>\n",
              "      <td>0</td>\n",
              "      <td>1</td>\n",
              "    </tr>\n",
              "    <tr>\n",
              "      <th>91</th>\n",
              "      <td>1</td>\n",
              "      <td>128</td>\n",
              "      <td>nissan</td>\n",
              "      <td>std</td>\n",
              "      <td>two</td>\n",
              "      <td>sedan</td>\n",
              "      <td>fwd</td>\n",
              "      <td>front</td>\n",
              "      <td>94.5</td>\n",
              "      <td>0.794330</td>\n",
              "      <td>0.886111</td>\n",
              "      <td>54.5</td>\n",
              "      <td>1951</td>\n",
              "      <td>ohc</td>\n",
              "      <td>four</td>\n",
              "      <td>97</td>\n",
              "      <td>2bbl</td>\n",
              "      <td>3.15</td>\n",
              "      <td>3.29</td>\n",
              "      <td>9.4</td>\n",
              "      <td>69.0</td>\n",
              "      <td>5200.0</td>\n",
              "      <td>31</td>\n",
              "      <td>37</td>\n",
              "      <td>7299</td>\n",
              "      <td>7.580645</td>\n",
              "      <td>Low</td>\n",
              "      <td>0</td>\n",
              "      <td>1</td>\n",
              "    </tr>\n",
              "    <tr>\n",
              "      <th>15</th>\n",
              "      <td>0</td>\n",
              "      <td>122</td>\n",
              "      <td>bmw</td>\n",
              "      <td>std</td>\n",
              "      <td>two</td>\n",
              "      <td>sedan</td>\n",
              "      <td>rwd</td>\n",
              "      <td>front</td>\n",
              "      <td>103.5</td>\n",
              "      <td>0.931283</td>\n",
              "      <td>0.943056</td>\n",
              "      <td>53.7</td>\n",
              "      <td>3380</td>\n",
              "      <td>ohc</td>\n",
              "      <td>six</td>\n",
              "      <td>209</td>\n",
              "      <td>mpfi</td>\n",
              "      <td>3.62</td>\n",
              "      <td>3.39</td>\n",
              "      <td>8.0</td>\n",
              "      <td>182.0</td>\n",
              "      <td>5400.0</td>\n",
              "      <td>16</td>\n",
              "      <td>22</td>\n",
              "      <td>41315</td>\n",
              "      <td>14.687500</td>\n",
              "      <td>High</td>\n",
              "      <td>0</td>\n",
              "      <td>1</td>\n",
              "    </tr>\n",
              "    <tr>\n",
              "      <th>149</th>\n",
              "      <td>0</td>\n",
              "      <td>77</td>\n",
              "      <td>toyota</td>\n",
              "      <td>std</td>\n",
              "      <td>four</td>\n",
              "      <td>wagon</td>\n",
              "      <td>fwd</td>\n",
              "      <td>front</td>\n",
              "      <td>95.7</td>\n",
              "      <td>0.815473</td>\n",
              "      <td>0.883333</td>\n",
              "      <td>59.1</td>\n",
              "      <td>2280</td>\n",
              "      <td>ohc</td>\n",
              "      <td>four</td>\n",
              "      <td>92</td>\n",
              "      <td>2bbl</td>\n",
              "      <td>3.05</td>\n",
              "      <td>3.03</td>\n",
              "      <td>9.0</td>\n",
              "      <td>62.0</td>\n",
              "      <td>4800.0</td>\n",
              "      <td>31</td>\n",
              "      <td>37</td>\n",
              "      <td>6918</td>\n",
              "      <td>7.580645</td>\n",
              "      <td>Low</td>\n",
              "      <td>0</td>\n",
              "      <td>1</td>\n",
              "    </tr>\n",
              "    <tr>\n",
              "      <th>125</th>\n",
              "      <td>3</td>\n",
              "      <td>122</td>\n",
              "      <td>porsche</td>\n",
              "      <td>std</td>\n",
              "      <td>two</td>\n",
              "      <td>convertible</td>\n",
              "      <td>rwd</td>\n",
              "      <td>rear</td>\n",
              "      <td>89.5</td>\n",
              "      <td>0.811629</td>\n",
              "      <td>0.902778</td>\n",
              "      <td>51.6</td>\n",
              "      <td>2800</td>\n",
              "      <td>ohcf</td>\n",
              "      <td>six</td>\n",
              "      <td>194</td>\n",
              "      <td>mpfi</td>\n",
              "      <td>3.74</td>\n",
              "      <td>2.90</td>\n",
              "      <td>9.5</td>\n",
              "      <td>207.0</td>\n",
              "      <td>5900.0</td>\n",
              "      <td>17</td>\n",
              "      <td>25</td>\n",
              "      <td>37028</td>\n",
              "      <td>13.823529</td>\n",
              "      <td>High</td>\n",
              "      <td>0</td>\n",
              "      <td>1</td>\n",
              "    </tr>\n",
              "    <tr>\n",
              "      <th>139</th>\n",
              "      <td>0</td>\n",
              "      <td>102</td>\n",
              "      <td>subaru</td>\n",
              "      <td>std</td>\n",
              "      <td>four</td>\n",
              "      <td>sedan</td>\n",
              "      <td>fwd</td>\n",
              "      <td>front</td>\n",
              "      <td>97.2</td>\n",
              "      <td>0.826526</td>\n",
              "      <td>0.908333</td>\n",
              "      <td>52.5</td>\n",
              "      <td>2340</td>\n",
              "      <td>ohcf</td>\n",
              "      <td>four</td>\n",
              "      <td>108</td>\n",
              "      <td>mpfi</td>\n",
              "      <td>3.62</td>\n",
              "      <td>2.64</td>\n",
              "      <td>9.0</td>\n",
              "      <td>94.0</td>\n",
              "      <td>5200.0</td>\n",
              "      <td>26</td>\n",
              "      <td>32</td>\n",
              "      <td>9960</td>\n",
              "      <td>9.038462</td>\n",
              "      <td>Low</td>\n",
              "      <td>0</td>\n",
              "      <td>1</td>\n",
              "    </tr>\n",
              "    <tr>\n",
              "      <th>57</th>\n",
              "      <td>0</td>\n",
              "      <td>115</td>\n",
              "      <td>mazda</td>\n",
              "      <td>std</td>\n",
              "      <td>four</td>\n",
              "      <td>sedan</td>\n",
              "      <td>fwd</td>\n",
              "      <td>front</td>\n",
              "      <td>98.8</td>\n",
              "      <td>0.854397</td>\n",
              "      <td>0.923611</td>\n",
              "      <td>55.5</td>\n",
              "      <td>2410</td>\n",
              "      <td>ohc</td>\n",
              "      <td>four</td>\n",
              "      <td>122</td>\n",
              "      <td>2bbl</td>\n",
              "      <td>3.39</td>\n",
              "      <td>3.39</td>\n",
              "      <td>8.6</td>\n",
              "      <td>84.0</td>\n",
              "      <td>4800.0</td>\n",
              "      <td>26</td>\n",
              "      <td>32</td>\n",
              "      <td>8495</td>\n",
              "      <td>9.038462</td>\n",
              "      <td>Low</td>\n",
              "      <td>0</td>\n",
              "      <td>1</td>\n",
              "    </tr>\n",
              "    <tr>\n",
              "      <th>198</th>\n",
              "      <td>-1</td>\n",
              "      <td>95</td>\n",
              "      <td>volvo</td>\n",
              "      <td>std</td>\n",
              "      <td>four</td>\n",
              "      <td>sedan</td>\n",
              "      <td>rwd</td>\n",
              "      <td>front</td>\n",
              "      <td>109.1</td>\n",
              "      <td>0.907256</td>\n",
              "      <td>0.956944</td>\n",
              "      <td>55.5</td>\n",
              "      <td>3012</td>\n",
              "      <td>ohcv</td>\n",
              "      <td>six</td>\n",
              "      <td>173</td>\n",
              "      <td>mpfi</td>\n",
              "      <td>3.58</td>\n",
              "      <td>2.87</td>\n",
              "      <td>8.8</td>\n",
              "      <td>134.0</td>\n",
              "      <td>5500.0</td>\n",
              "      <td>18</td>\n",
              "      <td>23</td>\n",
              "      <td>21485</td>\n",
              "      <td>13.055556</td>\n",
              "      <td>Medium</td>\n",
              "      <td>0</td>\n",
              "      <td>1</td>\n",
              "    </tr>\n",
              "    <tr>\n",
              "      <th>177</th>\n",
              "      <td>-1</td>\n",
              "      <td>122</td>\n",
              "      <td>toyota</td>\n",
              "      <td>std</td>\n",
              "      <td>four</td>\n",
              "      <td>wagon</td>\n",
              "      <td>rwd</td>\n",
              "      <td>front</td>\n",
              "      <td>104.5</td>\n",
              "      <td>0.902451</td>\n",
              "      <td>0.923611</td>\n",
              "      <td>54.1</td>\n",
              "      <td>3151</td>\n",
              "      <td>dohc</td>\n",
              "      <td>six</td>\n",
              "      <td>161</td>\n",
              "      <td>mpfi</td>\n",
              "      <td>3.27</td>\n",
              "      <td>3.35</td>\n",
              "      <td>9.2</td>\n",
              "      <td>156.0</td>\n",
              "      <td>5200.0</td>\n",
              "      <td>19</td>\n",
              "      <td>24</td>\n",
              "      <td>15750</td>\n",
              "      <td>12.368421</td>\n",
              "      <td>High</td>\n",
              "      <td>0</td>\n",
              "      <td>1</td>\n",
              "    </tr>\n",
              "  </tbody>\n",
              "</table>\n",
              "</div>"
            ],
            "text/plain": [
              "     symboling  normalized-losses     make  ... horsepower-binned diesel gas\n",
              "4            2                164     audi  ...            Medium      0   1\n",
              "62           0                118    mazda  ...            Medium      0   1\n",
              "91           1                128   nissan  ...               Low      0   1\n",
              "15           0                122      bmw  ...              High      0   1\n",
              "149          0                 77   toyota  ...               Low      0   1\n",
              "125          3                122  porsche  ...              High      0   1\n",
              "139          0                102   subaru  ...               Low      0   1\n",
              "57           0                115    mazda  ...               Low      0   1\n",
              "198         -1                 95    volvo  ...            Medium      0   1\n",
              "177         -1                122   toyota  ...              High      0   1\n",
              "\n",
              "[10 rows x 29 columns]"
            ]
          },
          "metadata": {
            "tags": []
          },
          "execution_count": 1
        }
      ]
    },
    {
      "cell_type": "markdown",
      "metadata": {
        "id": "RkAwLi7rik34"
      },
      "source": [
        "**Số sample của dataset**"
      ]
    },
    {
      "cell_type": "code",
      "metadata": {
        "id": "9DsuSAX4ieqa",
        "outputId": "56fcd04e-893a-48af-914c-8182a833f831",
        "colab": {
          "base_uri": "https://localhost:8080/",
          "height": 35
        }
      },
      "source": [
        "print(df.shape[0])"
      ],
      "execution_count": null,
      "outputs": [
        {
          "output_type": "stream",
          "text": [
            "201\n"
          ],
          "name": "stdout"
        }
      ]
    },
    {
      "cell_type": "markdown",
      "metadata": {
        "id": "OHxw_QaBizHB"
      },
      "source": [
        "**Số lượng thuộc tính của dataset**"
      ]
    },
    {
      "cell_type": "code",
      "metadata": {
        "id": "aR6HHScNi58q",
        "outputId": "30c5cd56-d962-43cd-a101-ba05b085d9fe",
        "colab": {
          "base_uri": "https://localhost:8080/",
          "height": 35
        }
      },
      "source": [
        "print(df.shape[1])"
      ],
      "execution_count": null,
      "outputs": [
        {
          "output_type": "stream",
          "text": [
            "29\n"
          ],
          "name": "stdout"
        }
      ]
    },
    {
      "cell_type": "markdown",
      "metadata": {
        "id": "CECIu_U6jFQ-"
      },
      "source": [
        "**Câu 2. Kiểm tra kiểu dữ liệu của các feature trong dataset. Dataset có bị khuyết giá trị nào không?**"
      ]
    },
    {
      "cell_type": "code",
      "metadata": {
        "id": "0lKW_Q51jOPm",
        "outputId": "f9173ed3-9579-4e02-c9f1-79791c1d4b23",
        "colab": {
          "base_uri": "https://localhost:8080/",
          "height": 35
        }
      },
      "source": [
        "if df.isnull().sum().sum() > 0:\n",
        "    print(\"Dataset bị khuyết giá trị\")\n",
        "else:\n",
        "    print(\"Dataset không bị khuyết giá trị\")"
      ],
      "execution_count": null,
      "outputs": [
        {
          "output_type": "stream",
          "text": [
            "Dataset không bị khuyết giá trị\n"
          ],
          "name": "stdout"
        }
      ]
    },
    {
      "cell_type": "markdown",
      "metadata": {
        "id": "4vsaRdQrkhJm"
      },
      "source": [
        "**Câu 3. Tính correlation của các feature = ['bore'; 'stroke'; 'compression-ratio'; 'horsepower']. Nhận xét xem có mối quan hệ tương quan nào không?**"
      ]
    },
    {
      "cell_type": "code",
      "metadata": {
        "id": "44cOZ4BolCw0"
      },
      "source": [
        "features_name = ['bore', 'stroke', 'compression-ratio', 'horsepower']"
      ],
      "execution_count": null,
      "outputs": []
    },
    {
      "cell_type": "code",
      "metadata": {
        "id": "IVhordH0l4BV",
        "outputId": "ad2157e4-30af-4e02-d957-1ddfca6e06e7",
        "colab": {
          "base_uri": "https://localhost:8080/",
          "height": 125
        }
      },
      "source": [
        "from scipy import stats\n",
        "\n",
        "for i in range(len(features_name)-1):\n",
        "    for j in range(i+1, len(features_name)):\n",
        "        pearson_coef, p_value = stats.pearsonr(df[features_name[i]], df[features_name[j]])\n",
        "        if abs(pearson_coef) >= 0.8 and abs(pearson_coef) <= 1:\n",
        "            result = \"mạnh\"\n",
        "        elif abs(pearson_coef) >= 0.5 and abs(pearson_coef) < 0.8:\n",
        "            result = \"tương đối\"\n",
        "        elif abs(pearson_coef) >= 0.3 and abs(pearson_coef) < 0.5:\n",
        "            result = 'yếu'\n",
        "        else:\n",
        "            result = 'không tương quan'\n",
        "        if result != 'không tương quan':\n",
        "            if pearson_coef >= 0:\n",
        "                print(features_name[i] + \" và \" + features_name[j] + \" có mối tương quan thuận \" + result)\n",
        "            else:\n",
        "                print(features_name[i] + \" và \" + features_name[j] + \" có mối tương quan nghịch \" + result)\n",
        "        else:\n",
        "            print(features_name[i] + \" và \" + features_name[j] + \" không tương quan\")"
      ],
      "execution_count": null,
      "outputs": [
        {
          "output_type": "stream",
          "text": [
            "bore và stroke không tương quan\n",
            "bore và compression-ratio không tương quan\n",
            "bore và horsepower có mối tương quan thuận tương đối\n",
            "stroke và compression-ratio không tương quan\n",
            "stroke và horsepower không tương quan\n",
            "compression-ratio và horsepower không tương quan\n"
          ],
          "name": "stdout"
        }
      ]
    },
    {
      "cell_type": "markdown",
      "metadata": {
        "id": "GMRUtQfwnJit"
      },
      "source": [
        "**Câu 4. Phát họa scatterplot của \"engine-size\" và \"price\".**\n"
      ]
    },
    {
      "cell_type": "code",
      "metadata": {
        "id": "xnVRQ_qrniqY",
        "outputId": "5f48ceee-ddc3-47a3-fb14-9e5e9f0509a2",
        "colab": {
          "base_uri": "https://localhost:8080/",
          "height": 313
        }
      },
      "source": [
        "import matplotlib.pyplot as plt\n",
        "y = df['engine-size']\n",
        "x = df['price']\n",
        "plt.scatter(x,y)\n",
        "plt.title('Scatterplot of Engine Size vs Price')\n",
        "plt.xlabel(\"Engine Size\")\n",
        "plt.ylabel(\"Price\")"
      ],
      "execution_count": null,
      "outputs": [
        {
          "output_type": "execute_result",
          "data": {
            "text/plain": [
              "Text(0, 0.5, 'Price')"
            ]
          },
          "metadata": {
            "tags": []
          },
          "execution_count": 7
        },
        {
          "output_type": "display_data",
          "data": {
            "image/png": "[encoded data removed]",
            "text/plain": [
              "<Figure size 432x288 with 1 Axes>"
            ]
          },
          "metadata": {
            "tags": [],
            "needs_background": "light"
          }
        }
      ]
    },
    {
      "cell_type": "markdown",
      "metadata": {
        "id": "oZKFOHJ_nsIl"
      },
      "source": [
        "**Câu 5. Tìm các feature có correlation so với price có ảnh hưởng nhiều nhất (đồng thuận, hoặc không đồng thuận)**"
      ]
    },
    {
      "cell_type": "code",
      "metadata": {
        "id": "fFtWEcrbnodm",
        "outputId": "50319fdb-a62d-44ee-f320-4b90cb25c28c",
        "colab": {
          "base_uri": "https://localhost:8080/",
          "height": 53
        }
      },
      "source": [
        "from scipy import stats\n",
        "name_column_has_the_best_correlation = ''\n",
        "name_column_has_the_worth_correlation = ''\n",
        "max_of_columns_has_the_best_correlation = -9999\n",
        "min_of_columns_has_the_worth_correlation = 9999\n",
        "for column_name in df.columns:\n",
        "    if column_name != 'price' and df[column_name].dtypes != 'object':\n",
        "        pearson_coef, p_value = stats.pearsonr(df[column_name], df['price'])\n",
        "        if name_column_has_the_best_correlation == '' or max_of_columns_has_the_best_correlation < pearson_coef:\n",
        "            name_column_has_the_best_correlation = column_name\n",
        "            max_of_columns_has_the_best_correlation = pearson_coef\n",
        "        if name_column_has_the_worth_correlation == '' or min_of_columns_has_the_worth_correlation > pearson_coef:\n",
        "            name_column_has_the_worth_correlation = column_name\n",
        "            min_of_columns_has_the_worth_correlation = pearson_coef\n",
        "        \n",
        "print(\"Thuộc tính có ảnh hưởng đồng thuận nhiều nhất \" + name_column_has_the_best_correlation + \" với correlation là \", \\\n",
        "      max_of_columns_has_the_best_correlation)\n",
        "print(\"Thuộc tính có ảnh hưởng không đồng thuận nhiều nhất \" + name_column_has_the_worth_correlation + \" với correlation là \", \\\n",
        "      min_of_columns_has_the_worth_correlation)"
      ],
      "execution_count": null,
      "outputs": [
        {
          "output_type": "stream",
          "text": [
            "Thuộc tính có ảnh hưởng đồng thuận nhiều nhất engine-size với correlation là  0.8723351674455185\n",
            "Thuộc tính có ảnh hưởng không đồng thuận nhiều nhất highway-mpg với correlation là  -0.704692265058953\n"
          ],
          "name": "stdout"
        }
      ]
    },
    {
      "cell_type": "markdown",
      "metadata": {
        "id": "53FGPL3Qx7bJ"
      },
      "source": [
        "**Câu 6. Dùng seaborn để phát họa các regplot cho các feature đã tìm thấy.**"
      ]
    },
    {
      "cell_type": "code",
      "metadata": {
        "id": "CCM8OoYxyUhC",
        "outputId": "ac368f06-0be7-4658-ee6e-5298cf88ad85",
        "colab": {
          "base_uri": "https://localhost:8080/",
          "height": 73
        }
      },
      "source": [
        "import seaborn as sns"
      ],
      "execution_count": null,
      "outputs": [
        {
          "output_type": "stream",
          "text": [
            "/usr/local/lib/python3.6/dist-packages/statsmodels/tools/_testing.py:19: FutureWarning: pandas.util.testing is deprecated. Use the functions in the public API at pandas.testing instead.\n",
            "  import pandas.util.testing as tm\n"
          ],
          "name": "stderr"
        }
      ]
    },
    {
      "cell_type": "code",
      "metadata": {
        "id": "mFJzPUuFx9ix",
        "outputId": "ef7108ba-8e6f-41c4-e979-3f7f5bfab865",
        "colab": {
          "base_uri": "https://localhost:8080/",
          "height": 297
        }
      },
      "source": [
        "sns.regplot(x = name_column_has_the_best_correlation, y = 'price', data=df)\n",
        "plt.ylim(0,)"
      ],
      "execution_count": null,
      "outputs": [
        {
          "output_type": "execute_result",
          "data": {
            "text/plain": [
              "(0.0, 53277.30155493948)"
            ]
          },
          "metadata": {
            "tags": []
          },
          "execution_count": 10
        },
        {
          "output_type": "display_data",
          "data": {
            "image/png": "[encoded data removed]",
            "text/plain": [
              "<Figure size 432x288 with 1 Axes>"
            ]
          },
          "metadata": {
            "tags": [],
            "needs_background": "light"
          }
        }
      ]
    },
    {
      "cell_type": "code",
      "metadata": {
        "id": "ji4p0J1fyXPr",
        "outputId": "62576792-10b2-4f6d-ba36-269ce69081f7",
        "colab": {
          "base_uri": "https://localhost:8080/",
          "height": 297
        }
      },
      "source": [
        "sns.regplot(x = name_column_has_the_worth_correlation, y = 'price', data=df)\n",
        "plt.ylim(0,)"
      ],
      "execution_count": null,
      "outputs": [
        {
          "output_type": "execute_result",
          "data": {
            "text/plain": [
              "(0.0, 48172.47368155226)"
            ]
          },
          "metadata": {
            "tags": []
          },
          "execution_count": 11
        },
        {
          "output_type": "display_data",
          "data": {
            "image/png": "[encoded data removed]",
            "text/plain": [
              "<Figure size 432x288 with 1 Axes>"
            ]
          },
          "metadata": {
            "tags": [],
            "needs_background": "light"
          }
        }
      ]
    },
    {
      "cell_type": "markdown",
      "metadata": {
        "id": "fZcDirN1ypNl"
      },
      "source": [
        "**Câu 7. Biến &#39;body-style&#39; là loại biến gì? Nếu là category thì đếm số lượng cho mỗi value. Kết quả trả về là một df với index là các value.**"
      ]
    },
    {
      "cell_type": "code",
      "metadata": {
        "id": "KwWST5cWyu2Q",
        "outputId": "03aa9c7f-6a17-4cc9-b1ad-eaba74e06f23",
        "colab": {
          "base_uri": "https://localhost:8080/",
          "height": 35
        }
      },
      "source": [
        "print(\"Loại biến của body-style là \", df['body-style'].dtypes)"
      ],
      "execution_count": null,
      "outputs": [
        {
          "output_type": "stream",
          "text": [
            "Loại biến của body-style là  object\n"
          ],
          "name": "stdout"
        }
      ]
    },
    {
      "cell_type": "code",
      "metadata": {
        "id": "8A8Kn2WUy-VX",
        "outputId": "20deb472-f4cd-425a-f414-d8ce77d813ba",
        "colab": {
          "base_uri": "https://localhost:8080/",
          "height": 143
        }
      },
      "source": [
        "if df['body-style'].dtypes == 'object':\n",
        "    print(\"Số lượng của mỗi values là \")\n",
        "    df_body_style_pivot = df['body-style'].value_counts()\n",
        "    print(df_body_style_pivot)"
      ],
      "execution_count": null,
      "outputs": [
        {
          "output_type": "stream",
          "text": [
            "Số lượng của mỗi values là \n",
            "sedan          94\n",
            "hatchback      68\n",
            "wagon          25\n",
            "hardtop         8\n",
            "convertible     6\n",
            "Name: body-style, dtype: int64\n"
          ],
          "name": "stdout"
        }
      ]
    },
    {
      "cell_type": "markdown",
      "metadata": {
        "id": "-_DXfsxe0SRG"
      },
      "source": [
        "**Câu 8. Phát họa các boxplot biểu diễn &#39;body-style&#39; theo price.**"
      ]
    },
    {
      "cell_type": "code",
      "metadata": {
        "id": "LnrCWP5X0QYN",
        "outputId": "8700484f-6b47-486d-eb54-edaccb8f7225",
        "colab": {
          "base_uri": "https://localhost:8080/",
          "height": 624
        }
      },
      "source": [
        "plt.figure(figsize=(20,10))\n",
        "sns.boxplot(x = 'body-style', y ='price', data=df)"
      ],
      "execution_count": null,
      "outputs": [
        {
          "output_type": "execute_result",
          "data": {
            "text/plain": [
              "<matplotlib.axes._subplots.AxesSubplot at 0x7f77c9bc3b38>"
            ]
          },
          "metadata": {
            "tags": []
          },
          "execution_count": 14
        },
        {
          "output_type": "display_data",
          "data": {
            "image/png": "[encoded data removed]",
            "text/plain": [
              "<Figure size 1440x720 with 1 Axes>"
            ]
          },
          "metadata": {
            "tags": [],
            "needs_background": "light"
          }
        }
      ]
    },
    {
      "cell_type": "markdown",
      "metadata": {
        "id": "0YeE28-f0nRN"
      },
      "source": [
        "**Câu 9. Viết hàm trích lọc các sample nằm trong miền biến thiên về giá theo các giá trị trong &#39;body-style&#39;.**"
      ]
    },
    {
      "cell_type": "code",
      "metadata": {
        "id": "jnkY7SQu0kFc"
      },
      "source": [
        "q1 = df[['price','body-style']].groupby('body-style').quantile(0.25)\n",
        "q3 = df[['price','body-style']].groupby('body-style').quantile(0.75)"
      ],
      "execution_count": 13,
      "outputs": []
    },
    {
      "cell_type": "code",
      "metadata": {
        "id": "CWXg7ppnYENQ"
      },
      "source": [
        "df_by_body_style = pd.DataFrame()\n",
        "for i in range(len(q1)):\n",
        "    df_by_body_style = df_by_body_style.append(df.loc[(df['price'] >= q1.iloc[i][0]) & (df['price'] <= q3.iloc[i][0])])"
      ],
      "execution_count": 31,
      "outputs": []
    },
    {
      "cell_type": "code",
      "metadata": {
        "id": "eW5K4gezcWZG",
        "outputId": "1ce66701-57de-4ea4-e78c-b421170fe490",
        "colab": {
          "base_uri": "https://localhost:8080/",
          "height": 473
        }
      },
      "source": [
        "df_by_body_style.drop_duplicates()"
      ],
      "execution_count": 43,
      "outputs": [
        {
          "output_type": "execute_result",
          "data": {
            "text/html": [
              "<div>\n",
              "<style scoped>\n",
              "    .dataframe tbody tr th:only-of-type {\n",
              "        vertical-align: middle;\n",
              "    }\n",
              "\n",
              "    .dataframe tbody tr th {\n",
              "        vertical-align: top;\n",
              "    }\n",
              "\n",
              "    .dataframe thead th {\n",
              "        text-align: right;\n",
              "    }\n",
              "</style>\n",
              "<table border=\"1\" class=\"dataframe\">\n",
              "  <thead>\n",
              "    <tr style=\"text-align: right;\">\n",
              "      <th></th>\n",
              "      <th>symboling</th>\n",
              "      <th>normalized-losses</th>\n",
              "      <th>make</th>\n",
              "      <th>aspiration</th>\n",
              "      <th>num-of-doors</th>\n",
              "      <th>body-style</th>\n",
              "      <th>drive-wheels</th>\n",
              "      <th>engine-location</th>\n",
              "      <th>wheel-base</th>\n",
              "      <th>length</th>\n",
              "      <th>width</th>\n",
              "      <th>height</th>\n",
              "      <th>curb-weight</th>\n",
              "      <th>engine-type</th>\n",
              "      <th>num-of-cylinders</th>\n",
              "      <th>engine-size</th>\n",
              "      <th>fuel-system</th>\n",
              "      <th>bore</th>\n",
              "      <th>stroke</th>\n",
              "      <th>compression-ratio</th>\n",
              "      <th>horsepower</th>\n",
              "      <th>peak-rpm</th>\n",
              "      <th>city-mpg</th>\n",
              "      <th>highway-mpg</th>\n",
              "      <th>price</th>\n",
              "      <th>city-L/100km</th>\n",
              "      <th>horsepower-binned</th>\n",
              "      <th>diesel</th>\n",
              "      <th>gas</th>\n",
              "    </tr>\n",
              "  </thead>\n",
              "  <tbody>\n",
              "    <tr>\n",
              "      <th>1</th>\n",
              "      <td>3</td>\n",
              "      <td>122</td>\n",
              "      <td>alfa-romero</td>\n",
              "      <td>std</td>\n",
              "      <td>two</td>\n",
              "      <td>convertible</td>\n",
              "      <td>rwd</td>\n",
              "      <td>front</td>\n",
              "      <td>88.6</td>\n",
              "      <td>0.811148</td>\n",
              "      <td>0.890278</td>\n",
              "      <td>48.8</td>\n",
              "      <td>2548</td>\n",
              "      <td>dohc</td>\n",
              "      <td>four</td>\n",
              "      <td>130</td>\n",
              "      <td>mpfi</td>\n",
              "      <td>3.47</td>\n",
              "      <td>2.68</td>\n",
              "      <td>9.0</td>\n",
              "      <td>111.0</td>\n",
              "      <td>5000.0</td>\n",
              "      <td>21</td>\n",
              "      <td>27</td>\n",
              "      <td>16500</td>\n",
              "      <td>11.190476</td>\n",
              "      <td>Medium</td>\n",
              "      <td>0</td>\n",
              "      <td>1</td>\n",
              "    </tr>\n",
              "    <tr>\n",
              "      <th>168</th>\n",
              "      <td>2</td>\n",
              "      <td>134</td>\n",
              "      <td>toyota</td>\n",
              "      <td>std</td>\n",
              "      <td>two</td>\n",
              "      <td>convertible</td>\n",
              "      <td>rwd</td>\n",
              "      <td>front</td>\n",
              "      <td>98.4</td>\n",
              "      <td>0.846708</td>\n",
              "      <td>0.911111</td>\n",
              "      <td>53.0</td>\n",
              "      <td>2975</td>\n",
              "      <td>ohc</td>\n",
              "      <td>four</td>\n",
              "      <td>146</td>\n",
              "      <td>mpfi</td>\n",
              "      <td>3.62</td>\n",
              "      <td>3.50</td>\n",
              "      <td>9.3</td>\n",
              "      <td>116.0</td>\n",
              "      <td>4800.0</td>\n",
              "      <td>24</td>\n",
              "      <td>30</td>\n",
              "      <td>17669</td>\n",
              "      <td>9.791667</td>\n",
              "      <td>Medium</td>\n",
              "      <td>0</td>\n",
              "      <td>1</td>\n",
              "    </tr>\n",
              "    <tr>\n",
              "      <th>0</th>\n",
              "      <td>3</td>\n",
              "      <td>122</td>\n",
              "      <td>alfa-romero</td>\n",
              "      <td>std</td>\n",
              "      <td>two</td>\n",
              "      <td>convertible</td>\n",
              "      <td>rwd</td>\n",
              "      <td>front</td>\n",
              "      <td>88.6</td>\n",
              "      <td>0.811148</td>\n",
              "      <td>0.890278</td>\n",
              "      <td>48.8</td>\n",
              "      <td>2548</td>\n",
              "      <td>dohc</td>\n",
              "      <td>four</td>\n",
              "      <td>130</td>\n",
              "      <td>mpfi</td>\n",
              "      <td>3.47</td>\n",
              "      <td>2.68</td>\n",
              "      <td>9.0</td>\n",
              "      <td>111.0</td>\n",
              "      <td>5000.0</td>\n",
              "      <td>21</td>\n",
              "      <td>27</td>\n",
              "      <td>13495</td>\n",
              "      <td>11.190476</td>\n",
              "      <td>Medium</td>\n",
              "      <td>0</td>\n",
              "      <td>1</td>\n",
              "    </tr>\n",
              "    <tr>\n",
              "      <th>185</th>\n",
              "      <td>3</td>\n",
              "      <td>122</td>\n",
              "      <td>volkswagen</td>\n",
              "      <td>std</td>\n",
              "      <td>two</td>\n",
              "      <td>convertible</td>\n",
              "      <td>fwd</td>\n",
              "      <td>front</td>\n",
              "      <td>94.5</td>\n",
              "      <td>0.765497</td>\n",
              "      <td>0.891667</td>\n",
              "      <td>55.6</td>\n",
              "      <td>2254</td>\n",
              "      <td>ohc</td>\n",
              "      <td>four</td>\n",
              "      <td>109</td>\n",
              "      <td>mpfi</td>\n",
              "      <td>3.19</td>\n",
              "      <td>3.40</td>\n",
              "      <td>8.5</td>\n",
              "      <td>90.0</td>\n",
              "      <td>5500.0</td>\n",
              "      <td>24</td>\n",
              "      <td>29</td>\n",
              "      <td>11595</td>\n",
              "      <td>9.791667</td>\n",
              "      <td>Low</td>\n",
              "      <td>0</td>\n",
              "      <td>1</td>\n",
              "    </tr>\n",
              "    <tr>\n",
              "      <th>163</th>\n",
              "      <td>2</td>\n",
              "      <td>134</td>\n",
              "      <td>toyota</td>\n",
              "      <td>std</td>\n",
              "      <td>two</td>\n",
              "      <td>hardtop</td>\n",
              "      <td>rwd</td>\n",
              "      <td>front</td>\n",
              "      <td>98.4</td>\n",
              "      <td>0.846708</td>\n",
              "      <td>0.911111</td>\n",
              "      <td>52.0</td>\n",
              "      <td>2540</td>\n",
              "      <td>ohc</td>\n",
              "      <td>four</td>\n",
              "      <td>146</td>\n",
              "      <td>mpfi</td>\n",
              "      <td>3.62</td>\n",
              "      <td>3.50</td>\n",
              "      <td>9.3</td>\n",
              "      <td>116.0</td>\n",
              "      <td>4800.0</td>\n",
              "      <td>24</td>\n",
              "      <td>30</td>\n",
              "      <td>8449</td>\n",
              "      <td>9.791667</td>\n",
              "      <td>Medium</td>\n",
              "      <td>0</td>\n",
              "      <td>1</td>\n",
              "    </tr>\n",
              "    <tr>\n",
              "      <th>...</th>\n",
              "      <td>...</td>\n",
              "      <td>...</td>\n",
              "      <td>...</td>\n",
              "      <td>...</td>\n",
              "      <td>...</td>\n",
              "      <td>...</td>\n",
              "      <td>...</td>\n",
              "      <td>...</td>\n",
              "      <td>...</td>\n",
              "      <td>...</td>\n",
              "      <td>...</td>\n",
              "      <td>...</td>\n",
              "      <td>...</td>\n",
              "      <td>...</td>\n",
              "      <td>...</td>\n",
              "      <td>...</td>\n",
              "      <td>...</td>\n",
              "      <td>...</td>\n",
              "      <td>...</td>\n",
              "      <td>...</td>\n",
              "      <td>...</td>\n",
              "      <td>...</td>\n",
              "      <td>...</td>\n",
              "      <td>...</td>\n",
              "      <td>...</td>\n",
              "      <td>...</td>\n",
              "      <td>...</td>\n",
              "      <td>...</td>\n",
              "      <td>...</td>\n",
              "    </tr>\n",
              "    <tr>\n",
              "      <th>90</th>\n",
              "      <td>1</td>\n",
              "      <td>103</td>\n",
              "      <td>nissan</td>\n",
              "      <td>std</td>\n",
              "      <td>four</td>\n",
              "      <td>wagon</td>\n",
              "      <td>fwd</td>\n",
              "      <td>front</td>\n",
              "      <td>94.5</td>\n",
              "      <td>0.817876</td>\n",
              "      <td>0.886111</td>\n",
              "      <td>53.5</td>\n",
              "      <td>2024</td>\n",
              "      <td>ohc</td>\n",
              "      <td>four</td>\n",
              "      <td>97</td>\n",
              "      <td>2bbl</td>\n",
              "      <td>3.15</td>\n",
              "      <td>3.29</td>\n",
              "      <td>9.4</td>\n",
              "      <td>69.0</td>\n",
              "      <td>5200.0</td>\n",
              "      <td>31</td>\n",
              "      <td>37</td>\n",
              "      <td>7349</td>\n",
              "      <td>7.580645</td>\n",
              "      <td>Low</td>\n",
              "      <td>0</td>\n",
              "      <td>1</td>\n",
              "    </tr>\n",
              "    <tr>\n",
              "      <th>94</th>\n",
              "      <td>1</td>\n",
              "      <td>103</td>\n",
              "      <td>nissan</td>\n",
              "      <td>std</td>\n",
              "      <td>four</td>\n",
              "      <td>wagon</td>\n",
              "      <td>fwd</td>\n",
              "      <td>front</td>\n",
              "      <td>94.5</td>\n",
              "      <td>0.817876</td>\n",
              "      <td>0.886111</td>\n",
              "      <td>53.5</td>\n",
              "      <td>2037</td>\n",
              "      <td>ohc</td>\n",
              "      <td>four</td>\n",
              "      <td>97</td>\n",
              "      <td>2bbl</td>\n",
              "      <td>3.15</td>\n",
              "      <td>3.29</td>\n",
              "      <td>9.4</td>\n",
              "      <td>69.0</td>\n",
              "      <td>5200.0</td>\n",
              "      <td>31</td>\n",
              "      <td>37</td>\n",
              "      <td>7999</td>\n",
              "      <td>7.580645</td>\n",
              "      <td>Low</td>\n",
              "      <td>0</td>\n",
              "      <td>1</td>\n",
              "    </tr>\n",
              "    <tr>\n",
              "      <th>150</th>\n",
              "      <td>0</td>\n",
              "      <td>81</td>\n",
              "      <td>toyota</td>\n",
              "      <td>std</td>\n",
              "      <td>four</td>\n",
              "      <td>wagon</td>\n",
              "      <td>4wd</td>\n",
              "      <td>front</td>\n",
              "      <td>95.7</td>\n",
              "      <td>0.815473</td>\n",
              "      <td>0.883333</td>\n",
              "      <td>59.1</td>\n",
              "      <td>2290</td>\n",
              "      <td>ohc</td>\n",
              "      <td>four</td>\n",
              "      <td>92</td>\n",
              "      <td>2bbl</td>\n",
              "      <td>3.05</td>\n",
              "      <td>3.03</td>\n",
              "      <td>9.0</td>\n",
              "      <td>62.0</td>\n",
              "      <td>4800.0</td>\n",
              "      <td>27</td>\n",
              "      <td>32</td>\n",
              "      <td>7898</td>\n",
              "      <td>8.703704</td>\n",
              "      <td>Low</td>\n",
              "      <td>0</td>\n",
              "      <td>1</td>\n",
              "    </tr>\n",
              "    <tr>\n",
              "      <th>149</th>\n",
              "      <td>0</td>\n",
              "      <td>77</td>\n",
              "      <td>toyota</td>\n",
              "      <td>std</td>\n",
              "      <td>four</td>\n",
              "      <td>wagon</td>\n",
              "      <td>fwd</td>\n",
              "      <td>front</td>\n",
              "      <td>95.7</td>\n",
              "      <td>0.815473</td>\n",
              "      <td>0.883333</td>\n",
              "      <td>59.1</td>\n",
              "      <td>2280</td>\n",
              "      <td>ohc</td>\n",
              "      <td>four</td>\n",
              "      <td>92</td>\n",
              "      <td>2bbl</td>\n",
              "      <td>3.05</td>\n",
              "      <td>3.03</td>\n",
              "      <td>9.0</td>\n",
              "      <td>62.0</td>\n",
              "      <td>4800.0</td>\n",
              "      <td>31</td>\n",
              "      <td>37</td>\n",
              "      <td>6918</td>\n",
              "      <td>7.580645</td>\n",
              "      <td>Low</td>\n",
              "      <td>0</td>\n",
              "      <td>1</td>\n",
              "    </tr>\n",
              "    <tr>\n",
              "      <th>142</th>\n",
              "      <td>0</td>\n",
              "      <td>89</td>\n",
              "      <td>subaru</td>\n",
              "      <td>std</td>\n",
              "      <td>four</td>\n",
              "      <td>wagon</td>\n",
              "      <td>fwd</td>\n",
              "      <td>front</td>\n",
              "      <td>97.0</td>\n",
              "      <td>0.833734</td>\n",
              "      <td>0.908333</td>\n",
              "      <td>53.0</td>\n",
              "      <td>2290</td>\n",
              "      <td>ohcf</td>\n",
              "      <td>four</td>\n",
              "      <td>108</td>\n",
              "      <td>2bbl</td>\n",
              "      <td>3.62</td>\n",
              "      <td>2.64</td>\n",
              "      <td>9.0</td>\n",
              "      <td>82.0</td>\n",
              "      <td>4800.0</td>\n",
              "      <td>28</td>\n",
              "      <td>32</td>\n",
              "      <td>7463</td>\n",
              "      <td>8.392857</td>\n",
              "      <td>Low</td>\n",
              "      <td>0</td>\n",
              "      <td>1</td>\n",
              "    </tr>\n",
              "  </tbody>\n",
              "</table>\n",
              "<p>173 rows × 29 columns</p>\n",
              "</div>"
            ],
            "text/plain": [
              "     symboling  normalized-losses         make  ... horsepower-binned diesel gas\n",
              "1            3                122  alfa-romero  ...            Medium      0   1\n",
              "168          2                134       toyota  ...            Medium      0   1\n",
              "0            3                122  alfa-romero  ...            Medium      0   1\n",
              "185          3                122   volkswagen  ...               Low      0   1\n",
              "163          2                134       toyota  ...            Medium      0   1\n",
              "..         ...                ...          ...  ...               ...    ...  ..\n",
              "90           1                103       nissan  ...               Low      0   1\n",
              "94           1                103       nissan  ...               Low      0   1\n",
              "150          0                 81       toyota  ...               Low      0   1\n",
              "149          0                 77       toyota  ...               Low      0   1\n",
              "142          0                 89       subaru  ...               Low      0   1\n",
              "\n",
              "[173 rows x 29 columns]"
            ]
          },
          "metadata": {
            "tags": []
          },
          "execution_count": 43
        }
      ]
    },
    {
      "cell_type": "markdown",
      "metadata": {
        "id": "FpEildoT3ugd"
      },
      "source": [
        "**Câu 10. Căn cứ vào giá xe, chúng ta có thể nhận xét gì về các nhóm giá trị trong “engine-location”**"
      ]
    },
    {
      "cell_type": "code",
      "metadata": {
        "id": "cWXn02jE3zsy",
        "outputId": "91994fa0-eadf-40ed-c8dd-2167a8dbe893",
        "colab": {
          "base_uri": "https://localhost:8080/",
          "height": 352
        }
      },
      "source": [
        "plt.figure(figsize=(15,5))\n",
        "sns.boxplot(x = 'engine-location', y ='price', data=df)"
      ],
      "execution_count": null,
      "outputs": [
        {
          "output_type": "execute_result",
          "data": {
            "text/plain": [
              "<matplotlib.axes._subplots.AxesSubplot at 0x7f77c9b11320>"
            ]
          },
          "metadata": {
            "tags": []
          },
          "execution_count": 15
        },
        {
          "output_type": "display_data",
          "data": {
            "image/png": "[encoded data removed]",
            "text/plain": [
              "<Figure size 1080x360 with 1 Axes>"
            ]
          },
          "metadata": {
            "tags": [],
            "needs_background": "light"
          }
        }
      ]
    },
    {
      "cell_type": "markdown",
      "metadata": {
        "id": "FVmnyJr45_ig"
      },
      "source": [
        "**Nhận xét:**\n",
        "Engine-location: Vị trí đặt máy\n",
        "Giá tiền với vị trí đặt máy là rear cao hơn giá trị với vị trí đặt máy là front hay vị trí đặt máy có ảnh hưởng đến giá tiền của một chiếc xe.\n",
        "Phần lớn giá tiền có vị trí đặt máy là rear thường có giá thành cao nên được sản xuất hay mua ít hơn rất nhiều so với front."
      ]
    },
    {
      "cell_type": "markdown",
      "metadata": {
        "id": "tEFWnZZ461O1"
      },
      "source": [
        "**Câu 11. Tạo groupby các feature = [&#39;drive-wheels&#39;,&#39;body-style&#39;] theo trung bình giá (biến &#39;price&#39;). Nhận xét xem bị khuyết nhóm nào?**"
      ]
    },
    {
      "cell_type": "code",
      "metadata": {
        "id": "w8_2DGo16rqn",
        "outputId": "db6cfe1a-4c28-4692-b127-7eac3235b9d2",
        "colab": {
          "base_uri": "https://localhost:8080/",
          "height": 483
        }
      },
      "source": [
        "df_grb_price = df[['drive-wheels', 'body-style', 'price']].groupby(['drive-wheels', 'body-style']).mean()\n",
        "df_grb_price"
      ],
      "execution_count": null,
      "outputs": [
        {
          "output_type": "execute_result",
          "data": {
            "text/html": [
              "<div>\n",
              "<style scoped>\n",
              "    .dataframe tbody tr th:only-of-type {\n",
              "        vertical-align: middle;\n",
              "    }\n",
              "\n",
              "    .dataframe tbody tr th {\n",
              "        vertical-align: top;\n",
              "    }\n",
              "\n",
              "    .dataframe thead th {\n",
              "        text-align: right;\n",
              "    }\n",
              "</style>\n",
              "<table border=\"1\" class=\"dataframe\">\n",
              "  <thead>\n",
              "    <tr style=\"text-align: right;\">\n",
              "      <th></th>\n",
              "      <th></th>\n",
              "      <th>price</th>\n",
              "    </tr>\n",
              "    <tr>\n",
              "      <th>drive-wheels</th>\n",
              "      <th>body-style</th>\n",
              "      <th></th>\n",
              "    </tr>\n",
              "  </thead>\n",
              "  <tbody>\n",
              "    <tr>\n",
              "      <th rowspan=\"3\" valign=\"top\">4wd</th>\n",
              "      <th>hatchback</th>\n",
              "      <td>7603.000000</td>\n",
              "    </tr>\n",
              "    <tr>\n",
              "      <th>sedan</th>\n",
              "      <td>12647.333333</td>\n",
              "    </tr>\n",
              "    <tr>\n",
              "      <th>wagon</th>\n",
              "      <td>9095.750000</td>\n",
              "    </tr>\n",
              "    <tr>\n",
              "      <th rowspan=\"5\" valign=\"top\">fwd</th>\n",
              "      <th>convertible</th>\n",
              "      <td>11595.000000</td>\n",
              "    </tr>\n",
              "    <tr>\n",
              "      <th>hardtop</th>\n",
              "      <td>8249.000000</td>\n",
              "    </tr>\n",
              "    <tr>\n",
              "      <th>hatchback</th>\n",
              "      <td>8396.387755</td>\n",
              "    </tr>\n",
              "    <tr>\n",
              "      <th>sedan</th>\n",
              "      <td>9811.800000</td>\n",
              "    </tr>\n",
              "    <tr>\n",
              "      <th>wagon</th>\n",
              "      <td>9997.333333</td>\n",
              "    </tr>\n",
              "    <tr>\n",
              "      <th rowspan=\"5\" valign=\"top\">rwd</th>\n",
              "      <th>convertible</th>\n",
              "      <td>23949.600000</td>\n",
              "    </tr>\n",
              "    <tr>\n",
              "      <th>hardtop</th>\n",
              "      <td>24202.714286</td>\n",
              "    </tr>\n",
              "    <tr>\n",
              "      <th>hatchback</th>\n",
              "      <td>14337.777778</td>\n",
              "    </tr>\n",
              "    <tr>\n",
              "      <th>sedan</th>\n",
              "      <td>21711.833333</td>\n",
              "    </tr>\n",
              "    <tr>\n",
              "      <th>wagon</th>\n",
              "      <td>16994.222222</td>\n",
              "    </tr>\n",
              "  </tbody>\n",
              "</table>\n",
              "</div>"
            ],
            "text/plain": [
              "                                 price\n",
              "drive-wheels body-style               \n",
              "4wd          hatchback     7603.000000\n",
              "             sedan        12647.333333\n",
              "             wagon         9095.750000\n",
              "fwd          convertible  11595.000000\n",
              "             hardtop       8249.000000\n",
              "             hatchback     8396.387755\n",
              "             sedan         9811.800000\n",
              "             wagon         9997.333333\n",
              "rwd          convertible  23949.600000\n",
              "             hardtop      24202.714286\n",
              "             hatchback    14337.777778\n",
              "             sedan        21711.833333\n",
              "             wagon        16994.222222"
            ]
          },
          "metadata": {
            "tags": []
          },
          "execution_count": 16
        }
      ]
    },
    {
      "cell_type": "markdown",
      "metadata": {
        "id": "9AFcYKW9C0DH"
      },
      "source": [
        "**Nhận xét:**\n",
        "Nhóm bị thiếu là 4wd và hardtop, 4wd và convertible."
      ]
    },
    {
      "cell_type": "markdown",
      "metadata": {
        "id": "fymVkMZHDW9b"
      },
      "source": [
        "**Câu 12. Tạo bảng bảng pivot thể hiện trung bình giá, với index dòng là &#39;drive-wheels&#39;, index cột là &#39;body-style&#39;.**"
      ]
    },
    {
      "cell_type": "code",
      "metadata": {
        "id": "3pozJ_7dDdoK",
        "outputId": "20469dde-503c-414a-839b-4ddaaae1c27d",
        "colab": {
          "base_uri": "https://localhost:8080/",
          "height": 483
        }
      },
      "source": [
        "df_grb_price = df[['drive-wheels', 'body-style', 'price']].groupby(['drive-wheels', 'body-style']).mean()\n",
        "df_grb_price"
      ],
      "execution_count": null,
      "outputs": [
        {
          "output_type": "execute_result",
          "data": {
            "text/html": [
              "<div>\n",
              "<style scoped>\n",
              "    .dataframe tbody tr th:only-of-type {\n",
              "        vertical-align: middle;\n",
              "    }\n",
              "\n",
              "    .dataframe tbody tr th {\n",
              "        vertical-align: top;\n",
              "    }\n",
              "\n",
              "    .dataframe thead th {\n",
              "        text-align: right;\n",
              "    }\n",
              "</style>\n",
              "<table border=\"1\" class=\"dataframe\">\n",
              "  <thead>\n",
              "    <tr style=\"text-align: right;\">\n",
              "      <th></th>\n",
              "      <th></th>\n",
              "      <th>price</th>\n",
              "    </tr>\n",
              "    <tr>\n",
              "      <th>drive-wheels</th>\n",
              "      <th>body-style</th>\n",
              "      <th></th>\n",
              "    </tr>\n",
              "  </thead>\n",
              "  <tbody>\n",
              "    <tr>\n",
              "      <th rowspan=\"3\" valign=\"top\">4wd</th>\n",
              "      <th>hatchback</th>\n",
              "      <td>7603.000000</td>\n",
              "    </tr>\n",
              "    <tr>\n",
              "      <th>sedan</th>\n",
              "      <td>12647.333333</td>\n",
              "    </tr>\n",
              "    <tr>\n",
              "      <th>wagon</th>\n",
              "      <td>9095.750000</td>\n",
              "    </tr>\n",
              "    <tr>\n",
              "      <th rowspan=\"5\" valign=\"top\">fwd</th>\n",
              "      <th>convertible</th>\n",
              "      <td>11595.000000</td>\n",
              "    </tr>\n",
              "    <tr>\n",
              "      <th>hardtop</th>\n",
              "      <td>8249.000000</td>\n",
              "    </tr>\n",
              "    <tr>\n",
              "      <th>hatchback</th>\n",
              "      <td>8396.387755</td>\n",
              "    </tr>\n",
              "    <tr>\n",
              "      <th>sedan</th>\n",
              "      <td>9811.800000</td>\n",
              "    </tr>\n",
              "    <tr>\n",
              "      <th>wagon</th>\n",
              "      <td>9997.333333</td>\n",
              "    </tr>\n",
              "    <tr>\n",
              "      <th rowspan=\"5\" valign=\"top\">rwd</th>\n",
              "      <th>convertible</th>\n",
              "      <td>23949.600000</td>\n",
              "    </tr>\n",
              "    <tr>\n",
              "      <th>hardtop</th>\n",
              "      <td>24202.714286</td>\n",
              "    </tr>\n",
              "    <tr>\n",
              "      <th>hatchback</th>\n",
              "      <td>14337.777778</td>\n",
              "    </tr>\n",
              "    <tr>\n",
              "      <th>sedan</th>\n",
              "      <td>21711.833333</td>\n",
              "    </tr>\n",
              "    <tr>\n",
              "      <th>wagon</th>\n",
              "      <td>16994.222222</td>\n",
              "    </tr>\n",
              "  </tbody>\n",
              "</table>\n",
              "</div>"
            ],
            "text/plain": [
              "                                 price\n",
              "drive-wheels body-style               \n",
              "4wd          hatchback     7603.000000\n",
              "             sedan        12647.333333\n",
              "             wagon         9095.750000\n",
              "fwd          convertible  11595.000000\n",
              "             hardtop       8249.000000\n",
              "             hatchback     8396.387755\n",
              "             sedan         9811.800000\n",
              "             wagon         9997.333333\n",
              "rwd          convertible  23949.600000\n",
              "             hardtop      24202.714286\n",
              "             hatchback    14337.777778\n",
              "             sedan        21711.833333\n",
              "             wagon        16994.222222"
            ]
          },
          "metadata": {
            "tags": []
          },
          "execution_count": 17
        }
      ]
    },
    {
      "cell_type": "markdown",
      "metadata": {
        "id": "OktPfQtMDjo_"
      },
      "source": [
        "**Câu 13. Tạo heatmap thể hiện câu 12 (dùng mã màu là cmap=&#39;RdBu')**"
      ]
    },
    {
      "cell_type": "code",
      "metadata": {
        "id": "uBvJYIA6Dg8e",
        "outputId": "a84af5e2-8b20-4b2e-c4ec-758f727339bf",
        "colab": {
          "base_uri": "https://localhost:8080/",
          "height": 320
        }
      },
      "source": [
        "fig, ax = plt.subplots(figsize=(10, 5))\n",
        "sns.heatmap(df_grb_price, cmap = 'RdBu')\n",
        "plt.show()"
      ],
      "execution_count": null,
      "outputs": [
        {
          "output_type": "display_data",
          "data": {
            "image/png": "[encoded data removed]",
            "text/plain": [
              "<Figure size 720x360 with 2 Axes>"
            ]
          },
          "metadata": {
            "tags": [],
            "needs_background": "light"
          }
        }
      ]
    },
    {
      "cell_type": "markdown",
      "metadata": {
        "id": "CWssGQcEEMzo"
      },
      "source": [
        "**Câu 14. Tính Pearson_correlation và P-value của &#39;wheel-base&#39; và &#39;price&#39; đưa ra kết luận nhận xét.**"
      ]
    },
    {
      "cell_type": "code",
      "metadata": {
        "id": "KBZB50e8EMTJ",
        "outputId": "6f8b2370-d049-478f-f592-08c3fc102ec5",
        "colab": {
          "base_uri": "https://localhost:8080/",
          "height": 53
        }
      },
      "source": [
        "from scipy import stats\n",
        "Pearson_coef, p_value = stats.pearsonr(df['wheel-base'], df['price'])\n",
        "print(\"P_value = \", p_value)\n",
        "print(\"Pearson_correlation = \",pearson_coef)"
      ],
      "execution_count": null,
      "outputs": [
        {
          "output_type": "stream",
          "text": [
            "P_value =  8.076488270733218e-20\n",
            "Pearson_correlation =  -0.11032556467564852\n"
          ],
          "name": "stdout"
        }
      ]
    },
    {
      "cell_type": "markdown",
      "metadata": {
        "id": "US8yNT7mFfE7"
      },
      "source": [
        "**Nhận xét:**\n",
        "Pearson_correlation thuộc trong khoảng (0; -0.3) -> Không có tương quan. </br>\n",
        "P_value < 0.001 -> Kết quả chắc chắn."
      ]
    },
    {
      "cell_type": "markdown",
      "metadata": {
        "id": "_AbMPxlZHEH8"
      },
      "source": [
        "**Câu 15. Tính Pearson_correlation và P-value của &#39;length&#39; và &#39;price&#39; đưa ra kết luận nhận xét.**"
      ]
    },
    {
      "cell_type": "code",
      "metadata": {
        "id": "XSaPM8QrFbyq",
        "outputId": "6169c768-cd8e-474a-86f9-bb6d07142557",
        "colab": {
          "base_uri": "https://localhost:8080/",
          "height": 53
        }
      },
      "source": [
        "from scipy import stats\n",
        "Pearson_coef, p_value = stats.pearsonr(df['length'], df['price'])\n",
        "print(\"P_value = \", p_value)\n",
        "print(\"Pearson_correlation = \",pearson_coef)"
      ],
      "execution_count": null,
      "outputs": [
        {
          "output_type": "stream",
          "text": [
            "P_value =  8.01647628992934e-30\n",
            "Pearson_correlation =  -0.11032556467564852\n"
          ],
          "name": "stdout"
        }
      ]
    },
    {
      "cell_type": "markdown",
      "metadata": {
        "id": "xAwJBDVfHR8F"
      },
      "source": [
        "**Nhận xét:**\n",
        "Pearson_correlation thuộc trong khoảng (0; -0.3) -> Không có tương quan. </br>\n",
        "P_value < 0.001 -> Kết quả chắc chắn."
      ]
    },
    {
      "cell_type": "markdown",
      "metadata": {
        "id": "BTHW6fSKHWdp"
      },
      "source": [
        "**Câu 16. Tiếp tục phân tích thăm dò các feature còn lại, theo anh/chị những feature nào có ảnh hưởng nhất đến giá xe? Anh/chị tạo df và lưu trữ nó.**"
      ]
    },
    {
      "cell_type": "code",
      "metadata": {
        "id": "9HMr4l43iGZN"
      },
      "source": [
        "categorical_features = []\n",
        "for column in df.columns:\n",
        "    if df[column].dtypes == 'object':\n",
        "        categorical_features.append(column)"
      ],
      "execution_count": 51,
      "outputs": []
    },
    {
      "cell_type": "code",
      "metadata": {
        "id": "Amd80Zs7jhVx",
        "outputId": "e469a884-ac22-4799-c597-0aa570d79a74",
        "colab": {
          "base_uri": "https://localhost:8080/",
          "height": 197
        }
      },
      "source": [
        "categorical_features"
      ],
      "execution_count": 55,
      "outputs": [
        {
          "output_type": "execute_result",
          "data": {
            "text/plain": [
              "['make',\n",
              " 'aspiration',\n",
              " 'num-of-doors',\n",
              " 'body-style',\n",
              " 'drive-wheels',\n",
              " 'engine-location',\n",
              " 'engine-type',\n",
              " 'num-of-cylinders',\n",
              " 'fuel-system',\n",
              " 'horsepower-binned']"
            ]
          },
          "metadata": {
            "tags": []
          },
          "execution_count": 55
        }
      ]
    },
    {
      "cell_type": "code",
      "metadata": {
        "id": "2DxyDnR3kt5j"
      },
      "source": [
        "categorical_df = df[['make',\n",
        " 'aspiration',\n",
        " 'num-of-doors',\n",
        " 'body-style',\n",
        " 'drive-wheels',\n",
        " 'engine-location',\n",
        " 'engine-type',\n",
        " 'num-of-cylinders',\n",
        " 'fuel-system',\n",
        " 'horsepower-binned']]\n",
        "from sklearn.preprocessing import LabelEncoder\n",
        "categorical_df = categorical_df.apply(LabelEncoder().fit_transform)"
      ],
      "execution_count": 65,
      "outputs": []
    },
    {
      "cell_type": "code",
      "metadata": {
        "id": "eumdXijnjOOM"
      },
      "source": [
        "X = categorical_df.values\n",
        "Y  = df['price'].values"
      ],
      "execution_count": 69,
      "outputs": []
    },
    {
      "cell_type": "code",
      "metadata": {
        "id": "5vYIdaPTjZSC"
      },
      "source": [
        "from sklearn.model_selection import train_test_split\n",
        "X_train, X_test, Y_train, Y_test = train_test_split(X, Y, train_size = 0.8, random_state =0)"
      ],
      "execution_count": 70,
      "outputs": []
    },
    {
      "cell_type": "code",
      "metadata": {
        "id": "UDI74ZM3j_bI",
        "outputId": "22d987fd-a315-46d9-8824-0e447caf21b2",
        "colab": {
          "base_uri": "https://localhost:8080/",
          "height": 197
        }
      },
      "source": [
        "from sklearn.tree import DecisionTreeRegressor\n",
        "from sklearn.metrics import mean_squared_error\n",
        "from sklearn.metrics import r2_score\n",
        "\n",
        "regressor = DecisionTreeRegressor(random_state=0)\n",
        "for i in range(X.shape[1]):\n",
        "    regressor.fit(X_train[:, i].reshape(-1,1), Y_train)\n",
        "    y_pred = regressor.predict(X_test[:, i].reshape(-1,1))\n",
        "    print(r2_score(Y_test, y_pred), categorical_features[i])"
      ],
      "execution_count": 92,
      "outputs": [
        {
          "output_type": "stream",
          "text": [
            "0.8139217857658976 make\n",
            "-0.13004489938561048 aspiration\n",
            "-0.022379479681991388 num-of-doors\n",
            "0.16301793301721068 body-style\n",
            "0.38774152053623934 drive-wheels\n",
            "0.2793532193971392 engine-location\n",
            "-0.06675818853477011 engine-type\n",
            "0.4922548538718199 num-of-cylinders\n",
            "0.19182124185772753 fuel-system\n",
            "0.6598071923713887 horsepower-binned\n"
          ],
          "name": "stdout"
        }
      ]
    },
    {
      "cell_type": "markdown",
      "metadata": {
        "id": "YIvMHvTUqJCp"
      },
      "source": [
        "Chọn những thuộc tính phân loại có dự đoán trên (xấp xỉ) 0.5 là make, num-of-cylinders, horsepower-binned."
      ]
    },
    {
      "cell_type": "code",
      "metadata": {
        "id": "WbKvX7duqqym"
      },
      "source": [
        "df_new_features = df[['make', 'num-of-cylinders', 'horsepower-binned', 'symboling', 'normalized-losses', 'wheel-base', 'length', 'width', 'height', 'curb-weight', 'engine-size', 'bore', 'stroke','compression-ratio','horsepower', 'peak-rpm','city-mpg','highway-mpg','city-L/100km','diesel','gas']]"
      ],
      "execution_count": 94,
      "outputs": []
    }
  ]
}