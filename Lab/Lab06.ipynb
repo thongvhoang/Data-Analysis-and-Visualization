{
  "nbformat": 4,
  "nbformat_minor": 0,
  "metadata": {
    "colab": {
      "name": "Lab6.ipynb",
      "provenance": [],
      "collapsed_sections": []
    },
    "kernelspec": {
      "name": "python3",
      "display_name": "Python 3"
    }
  },
  "cells": [
    {
      "cell_type": "markdown",
      "metadata": {
        "id": "qMt7c7b40sbU"
      },
      "source": [
        "**Họ và tên: Võ Hoàng Thông </br>\n",
        "MSSV: 18521462 </br>\n",
        "Lab 6**"
      ]
    },
    {
      "cell_type": "markdown",
      "metadata": {
        "id": "hcX75_PGNwLf"
      },
      "source": [
        "**Step 1: Define the problem**"
      ]
    },
    {
      "cell_type": "code",
      "metadata": {
        "id": "VJdFH3tJ0V7l",
        "outputId": "b127c72c-4271-42b5-84c1-fd69af757302",
        "colab": {
          "base_uri": "https://localhost:8080/",
          "height": 413
        }
      },
      "source": [
        "import pandas as pd\n",
        "import io\n",
        "from io import BytesIO\n",
        "from urllib.request import Request, urlopen\n",
        "link = 'https://archive.ics.uci.edu/ml/machine-learning-databases/autos/imports-85.data'\n",
        "url = Request(link, headers={'User-Agent': 'Mozilla/5.0'})\n",
        "df = pd.read_csv(BytesIO(urlopen(url).read()))\n",
        "df.columns = [\"symboling\", \"normalized-losses\", \"make\", \"fuel-type\", \"aspiration\", \"num-of-doors\", \"body-style\", \"drive-wheels\", \"engine-location\", \"wheel-base\", \"length\", \"width\", \"height\", \"curb-weight\", \"engine-type\", \"num-of-cylinders\", \"engine-size\", \"fuel-system\", \"bore\", \"stroke\", \"compression-ratio\", \"horsepower\", \"peak-rpm\", \"city-mpg\", \"highway-mpg\", \"price\"]\n",
        "df.sample(10)"
      ],
      "execution_count": null,
      "outputs": [
        {
          "output_type": "execute_result",
          "data": {
            "text/html": [
              "<div>\n",
              "<style scoped>\n",
              "    .dataframe tbody tr th:only-of-type {\n",
              "        vertical-align: middle;\n",
              "    }\n",
              "\n",
              "    .dataframe tbody tr th {\n",
              "        vertical-align: top;\n",
              "    }\n",
              "\n",
              "    .dataframe thead th {\n",
              "        text-align: right;\n",
              "    }\n",
              "</style>\n",
              "<table border=\"1\" class=\"dataframe\">\n",
              "  <thead>\n",
              "    <tr style=\"text-align: right;\">\n",
              "      <th></th>\n",
              "      <th>symboling</th>\n",
              "      <th>normalized-losses</th>\n",
              "      <th>make</th>\n",
              "      <th>fuel-type</th>\n",
              "      <th>aspiration</th>\n",
              "      <th>num-of-doors</th>\n",
              "      <th>body-style</th>\n",
              "      <th>drive-wheels</th>\n",
              "      <th>engine-location</th>\n",
              "      <th>wheel-base</th>\n",
              "      <th>length</th>\n",
              "      <th>width</th>\n",
              "      <th>height</th>\n",
              "      <th>curb-weight</th>\n",
              "      <th>engine-type</th>\n",
              "      <th>num-of-cylinders</th>\n",
              "      <th>engine-size</th>\n",
              "      <th>fuel-system</th>\n",
              "      <th>bore</th>\n",
              "      <th>stroke</th>\n",
              "      <th>compression-ratio</th>\n",
              "      <th>horsepower</th>\n",
              "      <th>peak-rpm</th>\n",
              "      <th>city-mpg</th>\n",
              "      <th>highway-mpg</th>\n",
              "      <th>price</th>\n",
              "    </tr>\n",
              "  </thead>\n",
              "  <tbody>\n",
              "    <tr>\n",
              "      <th>43</th>\n",
              "      <td>1</td>\n",
              "      <td>?</td>\n",
              "      <td>isuzu</td>\n",
              "      <td>gas</td>\n",
              "      <td>std</td>\n",
              "      <td>two</td>\n",
              "      <td>sedan</td>\n",
              "      <td>fwd</td>\n",
              "      <td>front</td>\n",
              "      <td>94.5</td>\n",
              "      <td>155.9</td>\n",
              "      <td>63.6</td>\n",
              "      <td>52.0</td>\n",
              "      <td>1874</td>\n",
              "      <td>ohc</td>\n",
              "      <td>four</td>\n",
              "      <td>90</td>\n",
              "      <td>2bbl</td>\n",
              "      <td>3.03</td>\n",
              "      <td>3.11</td>\n",
              "      <td>9.6</td>\n",
              "      <td>70</td>\n",
              "      <td>5400</td>\n",
              "      <td>38</td>\n",
              "      <td>43</td>\n",
              "      <td>?</td>\n",
              "    </tr>\n",
              "    <tr>\n",
              "      <th>14</th>\n",
              "      <td>0</td>\n",
              "      <td>?</td>\n",
              "      <td>bmw</td>\n",
              "      <td>gas</td>\n",
              "      <td>std</td>\n",
              "      <td>four</td>\n",
              "      <td>sedan</td>\n",
              "      <td>rwd</td>\n",
              "      <td>front</td>\n",
              "      <td>103.5</td>\n",
              "      <td>189.0</td>\n",
              "      <td>66.9</td>\n",
              "      <td>55.7</td>\n",
              "      <td>3230</td>\n",
              "      <td>ohc</td>\n",
              "      <td>six</td>\n",
              "      <td>209</td>\n",
              "      <td>mpfi</td>\n",
              "      <td>3.62</td>\n",
              "      <td>3.39</td>\n",
              "      <td>8.0</td>\n",
              "      <td>182</td>\n",
              "      <td>5400</td>\n",
              "      <td>16</td>\n",
              "      <td>22</td>\n",
              "      <td>30760</td>\n",
              "    </tr>\n",
              "    <tr>\n",
              "      <th>102</th>\n",
              "      <td>0</td>\n",
              "      <td>108</td>\n",
              "      <td>nissan</td>\n",
              "      <td>gas</td>\n",
              "      <td>std</td>\n",
              "      <td>four</td>\n",
              "      <td>sedan</td>\n",
              "      <td>fwd</td>\n",
              "      <td>front</td>\n",
              "      <td>100.4</td>\n",
              "      <td>184.6</td>\n",
              "      <td>66.5</td>\n",
              "      <td>55.1</td>\n",
              "      <td>3060</td>\n",
              "      <td>ohcv</td>\n",
              "      <td>six</td>\n",
              "      <td>181</td>\n",
              "      <td>mpfi</td>\n",
              "      <td>3.43</td>\n",
              "      <td>3.27</td>\n",
              "      <td>9.0</td>\n",
              "      <td>152</td>\n",
              "      <td>5200</td>\n",
              "      <td>19</td>\n",
              "      <td>25</td>\n",
              "      <td>13499</td>\n",
              "    </tr>\n",
              "    <tr>\n",
              "      <th>111</th>\n",
              "      <td>0</td>\n",
              "      <td>161</td>\n",
              "      <td>peugot</td>\n",
              "      <td>diesel</td>\n",
              "      <td>turbo</td>\n",
              "      <td>four</td>\n",
              "      <td>sedan</td>\n",
              "      <td>rwd</td>\n",
              "      <td>front</td>\n",
              "      <td>107.9</td>\n",
              "      <td>186.7</td>\n",
              "      <td>68.4</td>\n",
              "      <td>56.7</td>\n",
              "      <td>3252</td>\n",
              "      <td>l</td>\n",
              "      <td>four</td>\n",
              "      <td>152</td>\n",
              "      <td>idi</td>\n",
              "      <td>3.70</td>\n",
              "      <td>3.52</td>\n",
              "      <td>21.0</td>\n",
              "      <td>95</td>\n",
              "      <td>4150</td>\n",
              "      <td>28</td>\n",
              "      <td>33</td>\n",
              "      <td>16900</td>\n",
              "    </tr>\n",
              "    <tr>\n",
              "      <th>35</th>\n",
              "      <td>0</td>\n",
              "      <td>78</td>\n",
              "      <td>honda</td>\n",
              "      <td>gas</td>\n",
              "      <td>std</td>\n",
              "      <td>four</td>\n",
              "      <td>wagon</td>\n",
              "      <td>fwd</td>\n",
              "      <td>front</td>\n",
              "      <td>96.5</td>\n",
              "      <td>157.1</td>\n",
              "      <td>63.9</td>\n",
              "      <td>58.3</td>\n",
              "      <td>2024</td>\n",
              "      <td>ohc</td>\n",
              "      <td>four</td>\n",
              "      <td>92</td>\n",
              "      <td>1bbl</td>\n",
              "      <td>2.92</td>\n",
              "      <td>3.41</td>\n",
              "      <td>9.2</td>\n",
              "      <td>76</td>\n",
              "      <td>6000</td>\n",
              "      <td>30</td>\n",
              "      <td>34</td>\n",
              "      <td>7295</td>\n",
              "    </tr>\n",
              "    <tr>\n",
              "      <th>119</th>\n",
              "      <td>1</td>\n",
              "      <td>154</td>\n",
              "      <td>plymouth</td>\n",
              "      <td>gas</td>\n",
              "      <td>std</td>\n",
              "      <td>four</td>\n",
              "      <td>hatchback</td>\n",
              "      <td>fwd</td>\n",
              "      <td>front</td>\n",
              "      <td>93.7</td>\n",
              "      <td>157.3</td>\n",
              "      <td>63.8</td>\n",
              "      <td>50.6</td>\n",
              "      <td>1967</td>\n",
              "      <td>ohc</td>\n",
              "      <td>four</td>\n",
              "      <td>90</td>\n",
              "      <td>2bbl</td>\n",
              "      <td>2.97</td>\n",
              "      <td>3.23</td>\n",
              "      <td>9.4</td>\n",
              "      <td>68</td>\n",
              "      <td>5500</td>\n",
              "      <td>31</td>\n",
              "      <td>38</td>\n",
              "      <td>6229</td>\n",
              "    </tr>\n",
              "    <tr>\n",
              "      <th>55</th>\n",
              "      <td>3</td>\n",
              "      <td>150</td>\n",
              "      <td>mazda</td>\n",
              "      <td>gas</td>\n",
              "      <td>std</td>\n",
              "      <td>two</td>\n",
              "      <td>hatchback</td>\n",
              "      <td>rwd</td>\n",
              "      <td>front</td>\n",
              "      <td>95.3</td>\n",
              "      <td>169.0</td>\n",
              "      <td>65.7</td>\n",
              "      <td>49.6</td>\n",
              "      <td>2380</td>\n",
              "      <td>rotor</td>\n",
              "      <td>two</td>\n",
              "      <td>70</td>\n",
              "      <td>4bbl</td>\n",
              "      <td>?</td>\n",
              "      <td>?</td>\n",
              "      <td>9.4</td>\n",
              "      <td>101</td>\n",
              "      <td>6000</td>\n",
              "      <td>17</td>\n",
              "      <td>23</td>\n",
              "      <td>11845</td>\n",
              "    </tr>\n",
              "    <tr>\n",
              "      <th>60</th>\n",
              "      <td>1</td>\n",
              "      <td>129</td>\n",
              "      <td>mazda</td>\n",
              "      <td>gas</td>\n",
              "      <td>std</td>\n",
              "      <td>two</td>\n",
              "      <td>hatchback</td>\n",
              "      <td>fwd</td>\n",
              "      <td>front</td>\n",
              "      <td>98.8</td>\n",
              "      <td>177.8</td>\n",
              "      <td>66.5</td>\n",
              "      <td>53.7</td>\n",
              "      <td>2385</td>\n",
              "      <td>ohc</td>\n",
              "      <td>four</td>\n",
              "      <td>122</td>\n",
              "      <td>2bbl</td>\n",
              "      <td>3.39</td>\n",
              "      <td>3.39</td>\n",
              "      <td>8.6</td>\n",
              "      <td>84</td>\n",
              "      <td>4800</td>\n",
              "      <td>26</td>\n",
              "      <td>32</td>\n",
              "      <td>10595</td>\n",
              "    </tr>\n",
              "    <tr>\n",
              "      <th>192</th>\n",
              "      <td>0</td>\n",
              "      <td>?</td>\n",
              "      <td>volkswagen</td>\n",
              "      <td>gas</td>\n",
              "      <td>std</td>\n",
              "      <td>four</td>\n",
              "      <td>wagon</td>\n",
              "      <td>fwd</td>\n",
              "      <td>front</td>\n",
              "      <td>100.4</td>\n",
              "      <td>183.1</td>\n",
              "      <td>66.9</td>\n",
              "      <td>55.1</td>\n",
              "      <td>2563</td>\n",
              "      <td>ohc</td>\n",
              "      <td>four</td>\n",
              "      <td>109</td>\n",
              "      <td>mpfi</td>\n",
              "      <td>3.19</td>\n",
              "      <td>3.40</td>\n",
              "      <td>9.0</td>\n",
              "      <td>88</td>\n",
              "      <td>5500</td>\n",
              "      <td>25</td>\n",
              "      <td>31</td>\n",
              "      <td>12290</td>\n",
              "    </tr>\n",
              "    <tr>\n",
              "      <th>25</th>\n",
              "      <td>1</td>\n",
              "      <td>148</td>\n",
              "      <td>dodge</td>\n",
              "      <td>gas</td>\n",
              "      <td>std</td>\n",
              "      <td>four</td>\n",
              "      <td>sedan</td>\n",
              "      <td>fwd</td>\n",
              "      <td>front</td>\n",
              "      <td>93.7</td>\n",
              "      <td>157.3</td>\n",
              "      <td>63.8</td>\n",
              "      <td>50.6</td>\n",
              "      <td>1989</td>\n",
              "      <td>ohc</td>\n",
              "      <td>four</td>\n",
              "      <td>90</td>\n",
              "      <td>2bbl</td>\n",
              "      <td>2.97</td>\n",
              "      <td>3.23</td>\n",
              "      <td>9.4</td>\n",
              "      <td>68</td>\n",
              "      <td>5500</td>\n",
              "      <td>31</td>\n",
              "      <td>38</td>\n",
              "      <td>7609</td>\n",
              "    </tr>\n",
              "  </tbody>\n",
              "</table>\n",
              "</div>"
            ],
            "text/plain": [
              "     symboling normalized-losses        make  ... city-mpg highway-mpg  price\n",
              "43           1                 ?       isuzu  ...       38          43      ?\n",
              "14           0                 ?         bmw  ...       16          22  30760\n",
              "102          0               108      nissan  ...       19          25  13499\n",
              "111          0               161      peugot  ...       28          33  16900\n",
              "35           0                78       honda  ...       30          34   7295\n",
              "119          1               154    plymouth  ...       31          38   6229\n",
              "55           3               150       mazda  ...       17          23  11845\n",
              "60           1               129       mazda  ...       26          32  10595\n",
              "192          0                 ?  volkswagen  ...       25          31  12290\n",
              "25           1               148       dodge  ...       31          38   7609\n",
              "\n",
              "[10 rows x 26 columns]"
            ]
          },
          "metadata": {
            "tags": []
          },
          "execution_count": 229
        }
      ]
    },
    {
      "cell_type": "code",
      "metadata": {
        "id": "ylADglyn06GM",
        "outputId": "d1d04743-39b2-4584-b3a0-3437e2680bbb",
        "colab": {
          "base_uri": "https://localhost:8080/"
        }
      },
      "source": [
        "print(\"Kích thước của DataFrame: \", df.shape) "
      ],
      "execution_count": null,
      "outputs": [
        {
          "output_type": "stream",
          "text": [
            "Kích thước của DataFrame:  (204, 26)\n"
          ],
          "name": "stdout"
        }
      ]
    },
    {
      "cell_type": "code",
      "metadata": {
        "id": "i-g8sOSQOhRP",
        "outputId": "2031a39b-7c77-49a7-fa15-77a61320803c",
        "colab": {
          "base_uri": "https://localhost:8080/"
        }
      },
      "source": [
        "import numpy as np \n",
        "df = df.replace(['??','?','.','','_','NA','NULL','null','not','Not', 'Na'], np.nan)\n",
        "print(\"Số lượng missing trong dataframe là \", df.isnull().sum().sum()) \n",
        "print(\"Số lượng missing ở các thuộc tính: \")\n",
        "df.isna().sum()"
      ],
      "execution_count": null,
      "outputs": [
        {
          "output_type": "stream",
          "text": [
            "Số lượng missing trong dataframe là  58\n",
            "Số lượng missing ở các thuộc tính: \n"
          ],
          "name": "stdout"
        },
        {
          "output_type": "execute_result",
          "data": {
            "text/plain": [
              "symboling             0\n",
              "normalized-losses    40\n",
              "make                  0\n",
              "fuel-type             0\n",
              "aspiration            0\n",
              "num-of-doors          2\n",
              "body-style            0\n",
              "drive-wheels          0\n",
              "engine-location       0\n",
              "wheel-base            0\n",
              "length                0\n",
              "width                 0\n",
              "height                0\n",
              "curb-weight           0\n",
              "engine-type           0\n",
              "num-of-cylinders      0\n",
              "engine-size           0\n",
              "fuel-system           0\n",
              "bore                  4\n",
              "stroke                4\n",
              "compression-ratio     0\n",
              "horsepower            2\n",
              "peak-rpm              2\n",
              "city-mpg              0\n",
              "highway-mpg           0\n",
              "price                 4\n",
              "dtype: int64"
            ]
          },
          "metadata": {
            "tags": []
          },
          "execution_count": 231
        }
      ]
    },
    {
      "cell_type": "markdown",
      "metadata": {
        "id": "V62XOQA5RT8l"
      },
      "source": [
        "Vấn đề nhận thấy ở bộ dữ liệu này là: </br>\n",
        "1/ Một số thuộc tính bị thiếu giá trị: normalized-losses, num-of-doors, bore, stroke, horsepower, peak-rpm, price. </br>\n",
        "2/ Thuộc tính bị thiếu giá trị có cả ở 2 loại là biến liên tục và biến phân loại. </br>\n",
        "**Kết luận:** Để bộ dữ liệu có thể phân tích và phát triển mô hình ta cần phải điền dữ liệu thiếu vào các ô này."
      ]
    },
    {
      "cell_type": "markdown",
      "metadata": {
        "id": "b3yojf71NyJO"
      },
      "source": [
        "**Step 2: Data Cleansing & Feature Engineering**"
      ]
    },
    {
      "cell_type": "markdown",
      "metadata": {
        "id": "oPPJXNycRQRw"
      },
      "source": [
        "**Filling continuous variables**"
      ]
    },
    {
      "cell_type": "code",
      "metadata": {
        "id": "mysZklgUNkXY",
        "outputId": "96444942-7dc7-4874-ad7d-6d3649d7e0b9",
        "colab": {
          "base_uri": "https://localhost:8080/"
        }
      },
      "source": [
        "from fancyimpute import KNN\n",
        "df['normalized-losses'] = KNN(5).fit_transform(df['normalized-losses'].to_numpy().reshape(-1,1))\n",
        "df['bore'] = KNN(5).fit_transform(df['bore'].to_numpy().reshape(-1,1))\n",
        "from sklearn.impute import KNNImputer\n",
        "df['stroke'] = KNNImputer(n_neighbors=3).fit_transform(df['stroke'].to_numpy().reshape(-1,1))\n",
        "df['horsepower'] = KNNImputer(n_neighbors=3).fit_transform(df['horsepower'].to_numpy().reshape(-1,1))\n",
        "df['price'] = KNNImputer(n_neighbors=3).fit_transform(df['price'].to_numpy().reshape(-1,1))\n",
        "df['peak-rpm'] = KNNImputer(n_neighbors=3).fit_transform(df['peak-rpm'].to_numpy().reshape(-1,1))"
      ],
      "execution_count": null,
      "outputs": [
        {
          "output_type": "stream",
          "text": [
            "Imputing row 1/204 with 1 missing, elapsed time: 0.012\n",
            "Imputing row 101/204 with 0 missing, elapsed time: 0.012\n",
            "Imputing row 201/204 with 0 missing, elapsed time: 0.013\n",
            "[KNN] Warning: 40/204 still missing after imputation, replacing with 0\n",
            "Imputing row 1/204 with 0 missing, elapsed time: 0.015\n",
            "Imputing row 101/204 with 0 missing, elapsed time: 0.016\n",
            "Imputing row 201/204 with 0 missing, elapsed time: 0.017\n",
            "[KNN] Warning: 4/204 still missing after imputation, replacing with 0\n"
          ],
          "name": "stdout"
        }
      ]
    },
    {
      "cell_type": "markdown",
      "metadata": {
        "id": "SBYChvhRRYvl"
      },
      "source": [
        "**Filling category variables**"
      ]
    },
    {
      "cell_type": "code",
      "metadata": {
        "id": "hKZXwfElRPxz"
      },
      "source": [
        "from sklearn.experimental import enable_iterative_imputer  # noqa\n",
        "# now you can import normally from sklearn.impute\n",
        "from sklearn.impute import IterativeImputer\n",
        "from sklearn.ensemble import ExtraTreesRegressor\n",
        "#from sklearn.neighbors import KNeighborsRegressor\n",
        "from sklearn.preprocessing import OrdinalEncoder\n",
        "encoder = OrdinalEncoder()\n",
        "imputer = IterativeImputer(ExtraTreesRegressor())\n",
        "def encode(data):\n",
        "    '''function to encode non-null data and replace it in the original data'''\n",
        "    #retains only non-null values\n",
        "    nonulls = np.array(data.dropna())\n",
        "    #reshapes the data for encoding\n",
        "    impute_reshape = nonulls.reshape(-1,1)\n",
        "    #encode date\n",
        "    impute_ordinal = encoder.fit_transform(impute_reshape)\n",
        "    #Assign back encoded values to non-null values\n",
        "    data.loc[data.notnull()] = np.squeeze(impute_ordinal)\n",
        "    return data"
      ],
      "execution_count": null,
      "outputs": []
    },
    {
      "cell_type": "code",
      "metadata": {
        "id": "9jWuhs9zRfPu",
        "outputId": "731a5f27-5d53-444b-d50e-60b9dc737143",
        "colab": {
          "base_uri": "https://localhost:8080/"
        }
      },
      "source": [
        "df['num-of-doors'] = encode(df['num-of-doors'])\n",
        "df['num-of-doors'] = pd.DataFrame(np.round(imputer.fit_transform(df['num-of-doors'].values.reshape(-1,1))))"
      ],
      "execution_count": null,
      "outputs": [
        {
          "output_type": "stream",
          "text": [
            "/usr/local/lib/python3.6/dist-packages/pandas/core/indexing.py:670: SettingWithCopyWarning: \n",
            "A value is trying to be set on a copy of a slice from a DataFrame\n",
            "\n",
            "See the caveats in the documentation: https://pandas.pydata.org/pandas-docs/stable/user_guide/indexing.html#returning-a-view-versus-a-copy\n",
            "  iloc._setitem_with_indexer(indexer, value)\n"
          ],
          "name": "stderr"
        }
      ]
    },
    {
      "cell_type": "markdown",
      "metadata": {
        "id": "vBHtLCMqaV5G"
      },
      "source": [
        "**Kiểm tra missing values sau khi điền các giá trị thiếu trong dataframe**"
      ]
    },
    {
      "cell_type": "code",
      "metadata": {
        "id": "ObTYxXCWaRmG",
        "outputId": "315c2842-665b-4463-b0c4-1247abd76fb1",
        "colab": {
          "base_uri": "https://localhost:8080/"
        }
      },
      "source": [
        "print(\"Số lượng missing trong dataframe là \", df.isna().sum().sum()) "
      ],
      "execution_count": null,
      "outputs": [
        {
          "output_type": "stream",
          "text": [
            "Số lượng missing trong dataframe là  0\n"
          ],
          "name": "stdout"
        }
      ]
    },
    {
      "cell_type": "markdown",
      "metadata": {
        "id": "8GoxVZYZSOS5"
      },
      "source": [
        "**Feature Engineering**"
      ]
    },
    {
      "cell_type": "code",
      "metadata": {
        "id": "JiyjS2vpSckm"
      },
      "source": [
        "import seaborn as sn\n",
        "import matplotlib.pyplot as plt"
      ],
      "execution_count": null,
      "outputs": []
    },
    {
      "cell_type": "code",
      "metadata": {
        "id": "4qSIfL3PSRVz",
        "outputId": "9af5409c-0f02-4b04-c413-6d2c99c0f1a2",
        "colab": {
          "base_uri": "https://localhost:8080/",
          "height": 675
        }
      },
      "source": [
        "corrMatrix = df.corr()\n",
        "plt.figure(figsize=(15,10))\n",
        "sn.heatmap(corrMatrix, annot=True)\n",
        "plt.show()"
      ],
      "execution_count": null,
      "outputs": [
        {
          "output_type": "display_data",
          "data": {
            "image/png": "[encoded data removed]",
            "text/plain": [
              "<Figure size 1080x720 with 2 Axes>"
            ]
          },
          "metadata": {
            "tags": [],
            "needs_background": "light"
          }
        }
      ]
    },
    {
      "cell_type": "markdown",
      "metadata": {
        "id": "fBiHXw3YU3rJ"
      },
      "source": [
        "Đối với biến mục tiêu \"price\", ta chọn những thuộc tính (continuous variable) sau có sự ảnh hưởng đáng kể dựa trên ma trận tương quan gồm các thuộc tính wheel-base, length, width, curb-weight, engine-size, horsepower, city-mpg, highway-mpg."
      ]
    },
    {
      "cell_type": "code",
      "metadata": {
        "id": "cf_KEeVMUuHL"
      },
      "source": [
        "categorical_features = ['make',\n",
        " 'fuel-type',\n",
        " 'aspiration',\n",
        " 'num-of-doors',\n",
        " 'body-style',\n",
        " 'drive-wheels',\n",
        " 'engine-location',\n",
        " 'engine-type',\n",
        " 'num-of-cylinders',\n",
        " 'fuel-system']"
      ],
      "execution_count": null,
      "outputs": []
    },
    {
      "cell_type": "code",
      "metadata": {
        "id": "bFR_Iq53UAgE"
      },
      "source": [
        "categorical_df = df[['make',\n",
        " 'fuel-type',\n",
        " 'aspiration',\n",
        " 'num-of-doors',\n",
        " 'body-style',\n",
        " 'drive-wheels',\n",
        " 'engine-location',\n",
        " 'engine-type',\n",
        " 'num-of-cylinders',\n",
        " 'fuel-system']]\n",
        "from sklearn.preprocessing import LabelEncoder\n",
        "categorical_df = categorical_df.apply(LabelEncoder().fit_transform)"
      ],
      "execution_count": null,
      "outputs": []
    },
    {
      "cell_type": "code",
      "metadata": {
        "id": "XwonwGgzUcnk",
        "outputId": "cbcf7e09-4333-4366-80f5-e2febd3ca7f1",
        "colab": {
          "base_uri": "https://localhost:8080/"
        }
      },
      "source": [
        "X = categorical_df.values\n",
        "Y  = df['price'].values\n",
        "from sklearn.model_selection import train_test_split\n",
        "X_train, X_test, Y_train, Y_test = train_test_split(X, Y, train_size = 0.8, random_state =0)\n",
        "from sklearn.tree import DecisionTreeRegressor\n",
        "from sklearn.metrics import mean_squared_error\n",
        "from sklearn.metrics import r2_score\n",
        "\n",
        "regressor = DecisionTreeRegressor(random_state=0)\n",
        "for i in range(X.shape[1]):\n",
        "    regressor.fit(X_train[:, i].reshape(-1,1), Y_train)\n",
        "    y_pred = regressor.predict(X_test[:, i].reshape(-1,1))\n",
        "    print(\"R2 score = \", r2_score(Y_test, y_pred), categorical_features[i])"
      ],
      "execution_count": null,
      "outputs": [
        {
          "output_type": "stream",
          "text": [
            "R2 score =  0.6664607028380745 make\n",
            "R2 score =  0.016528686879338395 fuel-type\n",
            "R2 score =  0.04952214981951153 aspiration\n",
            "R2 score =  0.00255511024255739 num-of-doors\n",
            "R2 score =  0.02727081215616034 body-style\n",
            "R2 score =  0.3567075967804344 drive-wheels\n",
            "R2 score =  0.1418303247613304 engine-location\n",
            "R2 score =  0.14096416412612067 engine-type\n",
            "R2 score =  0.6407531081896433 num-of-cylinders\n",
            "R2 score =  0.3287504399299449 fuel-system\n"
          ],
          "name": "stdout"
        }
      ]
    },
    {
      "cell_type": "markdown",
      "metadata": {
        "id": "rfzZtK_TVYnl"
      },
      "source": [
        "Đối với biến categorical, ta chọn biến make và num-of-cylinders là những biến có score > 0.5, có ảnh hưởng tương đối cao đối với biến kết quả price."
      ]
    },
    {
      "cell_type": "markdown",
      "metadata": {
        "id": "3MNRj7YoQd9t"
      },
      "source": [
        "**Step 3: Model selection & training** &\n",
        "**Step 4: Evaluate & test the model results & performance**"
      ]
    },
    {
      "cell_type": "code",
      "metadata": {
        "id": "V6AhznSeN5Rs",
        "outputId": "0df8359c-68d1-47ed-db79-59e9d74fa91a",
        "colab": {
          "base_uri": "https://localhost:8080/",
          "height": 204
        }
      },
      "source": [
        "link = 'https://raw.githubusercontent.com/datasethub/ds105/master/Model-Evaluation-and-Refinement.csv'\n",
        "url = Request(link, headers={'User-Agent': 'Mozilla/5.0'})\n",
        "df = pd.read_csv(BytesIO(urlopen(url).read()))\n",
        "df.sample(5)"
      ],
      "execution_count": null,
      "outputs": [
        {
          "output_type": "execute_result",
          "data": {
            "text/html": [
              "<div>\n",
              "<style scoped>\n",
              "    .dataframe tbody tr th:only-of-type {\n",
              "        vertical-align: middle;\n",
              "    }\n",
              "\n",
              "    .dataframe tbody tr th {\n",
              "        vertical-align: top;\n",
              "    }\n",
              "\n",
              "    .dataframe thead th {\n",
              "        text-align: right;\n",
              "    }\n",
              "</style>\n",
              "<table border=\"1\" class=\"dataframe\">\n",
              "  <thead>\n",
              "    <tr style=\"text-align: right;\">\n",
              "      <th></th>\n",
              "      <th>curb-weight</th>\n",
              "      <th>engine-size</th>\n",
              "      <th>length</th>\n",
              "      <th>width</th>\n",
              "      <th>horsepower</th>\n",
              "      <th>city-mpg</th>\n",
              "      <th>highway-mpg</th>\n",
              "      <th>wheel-base</th>\n",
              "      <th>bore</th>\n",
              "      <th>symboling</th>\n",
              "      <th>normalized-losses</th>\n",
              "      <th>price</th>\n",
              "    </tr>\n",
              "  </thead>\n",
              "  <tbody>\n",
              "    <tr>\n",
              "      <th>137</th>\n",
              "      <td>2145</td>\n",
              "      <td>108</td>\n",
              "      <td>0.826526</td>\n",
              "      <td>0.908333</td>\n",
              "      <td>82.0</td>\n",
              "      <td>32</td>\n",
              "      <td>37</td>\n",
              "      <td>97.2</td>\n",
              "      <td>3.62</td>\n",
              "      <td>0</td>\n",
              "      <td>102</td>\n",
              "      <td>7126.0</td>\n",
              "    </tr>\n",
              "    <tr>\n",
              "      <th>94</th>\n",
              "      <td>2037</td>\n",
              "      <td>97</td>\n",
              "      <td>0.817876</td>\n",
              "      <td>0.886111</td>\n",
              "      <td>69.0</td>\n",
              "      <td>31</td>\n",
              "      <td>37</td>\n",
              "      <td>94.5</td>\n",
              "      <td>3.15</td>\n",
              "      <td>1</td>\n",
              "      <td>103</td>\n",
              "      <td>7999.0</td>\n",
              "    </tr>\n",
              "    <tr>\n",
              "      <th>169</th>\n",
              "      <td>2326</td>\n",
              "      <td>122</td>\n",
              "      <td>0.843825</td>\n",
              "      <td>0.923611</td>\n",
              "      <td>92.0</td>\n",
              "      <td>29</td>\n",
              "      <td>34</td>\n",
              "      <td>102.4</td>\n",
              "      <td>3.31</td>\n",
              "      <td>-1</td>\n",
              "      <td>65</td>\n",
              "      <td>8948.0</td>\n",
              "    </tr>\n",
              "    <tr>\n",
              "      <th>69</th>\n",
              "      <td>3685</td>\n",
              "      <td>234</td>\n",
              "      <td>0.866410</td>\n",
              "      <td>0.979167</td>\n",
              "      <td>155.0</td>\n",
              "      <td>16</td>\n",
              "      <td>18</td>\n",
              "      <td>96.6</td>\n",
              "      <td>3.46</td>\n",
              "      <td>3</td>\n",
              "      <td>142</td>\n",
              "      <td>35056.0</td>\n",
              "    </tr>\n",
              "    <tr>\n",
              "      <th>187</th>\n",
              "      <td>2661</td>\n",
              "      <td>136</td>\n",
              "      <td>0.865930</td>\n",
              "      <td>0.929167</td>\n",
              "      <td>110.0</td>\n",
              "      <td>19</td>\n",
              "      <td>24</td>\n",
              "      <td>100.4</td>\n",
              "      <td>3.19</td>\n",
              "      <td>0</td>\n",
              "      <td>122</td>\n",
              "      <td>13295.0</td>\n",
              "    </tr>\n",
              "  </tbody>\n",
              "</table>\n",
              "</div>"
            ],
            "text/plain": [
              "     curb-weight  engine-size    length  ...  symboling  normalized-losses    price\n",
              "137         2145          108  0.826526  ...          0                102   7126.0\n",
              "94          2037           97  0.817876  ...          1                103   7999.0\n",
              "169         2326          122  0.843825  ...         -1                 65   8948.0\n",
              "69          3685          234  0.866410  ...          3                142  35056.0\n",
              "187         2661          136  0.865930  ...          0                122  13295.0\n",
              "\n",
              "[5 rows x 12 columns]"
            ]
          },
          "metadata": {
            "tags": []
          },
          "execution_count": 244
        }
      ]
    },
    {
      "cell_type": "markdown",
      "metadata": {
        "id": "ZAE9i8cw0yUo"
      },
      "source": [
        "Tạo ra tổ hợp 2^n phép thử để thử các thuộc tính có trong dataframe."
      ]
    },
    {
      "cell_type": "code",
      "metadata": {
        "id": "ZmJVNLtnd3I4"
      },
      "source": [
        "import itertools\n",
        "n = len(df.columns) - 1\n",
        "combinations = list(itertools.product([True, False], repeat=n))"
      ],
      "execution_count": null,
      "outputs": []
    },
    {
      "cell_type": "code",
      "metadata": {
        "id": "ZNugRacrr8Kb"
      },
      "source": [
        "from sklearn.linear_model import LinearRegression\n",
        "from sklearn.model_selection import train_test_split\n",
        "from sklearn.preprocessing import StandardScaler, RobustScaler, QuantileTransformer, PowerTransformer\n",
        "from sklearn.model_selection import cross_val_score\n",
        "ss = StandardScaler()\n",
        "rs = RobustScaler()\n",
        "qt = QuantileTransformer(output_distribution='normal',n_quantiles=891)\n",
        "yj = PowerTransformer(method = 'yeo-johnson')\n",
        "bc = PowerTransformer(method = 'box-cox')\n",
        "from sklearn.metrics import mean_squared_error\n",
        "from math import sqrt\n",
        "from sklearn.preprocessing import PolynomialFeatures"
      ],
      "execution_count": null,
      "outputs": []
    },
    {
      "cell_type": "code",
      "metadata": {
        "id": "rc6NktvcneJ4"
      },
      "source": [
        "def create_model(model_name, preprocessing_name, df):\n",
        "    df_result = pd.DataFrame(columns=['Model','Feature_details', 'RMSE', 'R2_train', 'R2_test', '4-Fold Validation', '5-Fold Validation', 'Note'])\n",
        "    total_choosed_features = []\n",
        "    degrees = []\n",
        "    for i in range(2, 11):\n",
        "        degrees.append(i)\n",
        "    total_combinations = int(len(combinations) / 2)\n",
        "    # total_combinations = len(combinations)\n",
        "    for i in range(0, total_combinations):\n",
        "        choosed_features = []\n",
        "        for j in range(0, len(combinations[i])):\n",
        "            if combinations[i][j] == True:\n",
        "                choosed_features.append(j)\n",
        "        total_choosed_features.append(choosed_features)\n",
        "    for combination_feature in total_choosed_features:\n",
        "        if model_name == 'linear_regression':\n",
        "            columns_name = df.iloc[:, combination_feature].columns.tolist() \n",
        "            X = df.iloc[:, combination_feature] \n",
        "            y = df['price']\n",
        "            X_train, X_test, y_train, y_test = train_test_split(X, y, test_size=0.3, random_state=0)\n",
        "            reg = LinearRegression().fit(X_train, y_train)\n",
        "            R2_train = reg.score(X_train, y_train)\n",
        "            R2_test = reg.score(X_test, y_test)\n",
        "            yhat = reg.predict(X_test)\n",
        "            RMSE = sqrt(mean_squared_error(y_test, yhat))\n",
        "            regfull = LinearRegression().fit(X, y)\n",
        "            four_fold_validation = cross_val_score(regfull, X, y, cv = 4)\n",
        "            five_fold_validation = cross_val_score(regfull, X, y, cv = 5)\n",
        "            result_four_fold_validation = \"%0.2f (+/- %0.2f)\" % (four_fold_validation.mean(), four_fold_validation.std() * 2)\n",
        "            result_five_fold_validation = \"%0.2f (+/- %0.2f)\" % (five_fold_validation.mean(), five_fold_validation.std() * 2)\n",
        "            df_result = df_result.append({'Model' : model_name, 'Feature_details' : columns_name, 'RMSE' : RMSE, 'R2_train' : R2_train,\\\n",
        "                                          'R2_test' : R2_test, '4-Fold Validation' : result_four_fold_validation,\\\n",
        "                                          '5-Fold Validation' : result_five_fold_validation, 'Note' : ''}, ignore_index=True)\n",
        "        elif model_name == 'polynomial regression':\n",
        "            X = df.iloc[:, combination_feature] \n",
        "            y = df['price']\n",
        "            columns_name = df.iloc[:, combination_feature].columns.tolist() \n",
        "            for degree in degrees:\n",
        "                new_model_name = model_name + ' with degree ' + str(degree)\n",
        "                pr = PolynomialFeatures(degree = degree, include_bias = False)\n",
        "                X_poly = pr.fit_transform(X)\n",
        "                X_train, X_test, y_train, y_test = train_test_split(X_poly, y, test_size=0.3, random_state=0)\n",
        "                poly_degree_reg = LinearRegression().fit(X_train, y_train)\n",
        "                \n",
        "                R2_train = poly_degree_reg.score(X_train, y_train)\n",
        "                R2_test = poly_degree_reg.score(X_test, y_test)\n",
        "                yhat = poly_degree_reg.predict(X_test)\n",
        "                RMSE = sqrt(mean_squared_error(y_test, yhat))\n",
        "                regfull = LinearRegression().fit(X_poly, y)\n",
        "                four_fold_validation = cross_val_score(regfull, X_poly, y, cv = 4)\n",
        "                five_fold_validation = cross_val_score(regfull, X_poly, y, cv = 5)\n",
        "                result_four_fold_validation = \"%0.2f (+/- %0.2f)\" % (four_fold_validation.mean(), four_fold_validation.std() * 2)\n",
        "                result_five_fold_validation = \"%0.2f (+/- %0.2f)\" % (five_fold_validation.mean(), five_fold_validation.std() * 2)\n",
        "                df_result = df_result.append({'Model' : new_model_name, 'Feature_details' : columns_name, 'RMSE' : RMSE, 'R2_train' : R2_train,\\\n",
        "                                            'R2_test' : R2_test, '4-Fold Validation' : result_four_fold_validation,\\\n",
        "                                            '5-Fold Validation' : result_five_fold_validation, 'Note' : ''}, ignore_index=True)\n",
        "                # print(df_result)\n",
        "                \n",
        "    return df_result"
      ],
      "execution_count": null,
      "outputs": []
    },
    {
      "cell_type": "code",
      "metadata": {
        "id": "HsztzQKN0KsI"
      },
      "source": [
        "df_linear_reg = create_model('linear_regression', '', df)"
      ],
      "execution_count": null,
      "outputs": []
    },
    {
      "cell_type": "code",
      "metadata": {
        "id": "XfD9E_NR2GrY",
        "outputId": "5c1a4324-4d41-4d31-9ead-139d4858600d",
        "colab": {
          "base_uri": "https://localhost:8080/",
          "height": 204
        }
      },
      "source": [
        "df_linear_reg.sort_values(ascending=False, by=['R2_test', '4-Fold Validation', '5-Fold Validation']).head(5)"
      ],
      "execution_count": null,
      "outputs": [
        {
          "output_type": "execute_result",
          "data": {
            "text/html": [
              "<div>\n",
              "<style scoped>\n",
              "    .dataframe tbody tr th:only-of-type {\n",
              "        vertical-align: middle;\n",
              "    }\n",
              "\n",
              "    .dataframe tbody tr th {\n",
              "        vertical-align: top;\n",
              "    }\n",
              "\n",
              "    .dataframe thead th {\n",
              "        text-align: right;\n",
              "    }\n",
              "</style>\n",
              "<table border=\"1\" class=\"dataframe\">\n",
              "  <thead>\n",
              "    <tr style=\"text-align: right;\">\n",
              "      <th></th>\n",
              "      <th>Model</th>\n",
              "      <th>Feature_details</th>\n",
              "      <th>RMSE</th>\n",
              "      <th>R2_train</th>\n",
              "      <th>R2_test</th>\n",
              "      <th>4-Fold Validation</th>\n",
              "      <th>5-Fold Validation</th>\n",
              "      <th>Note</th>\n",
              "    </tr>\n",
              "  </thead>\n",
              "  <tbody>\n",
              "    <tr>\n",
              "      <th>319</th>\n",
              "      <td>linear_regression</td>\n",
              "      <td>[curb-weight, engine-size, width, horsepower]</td>\n",
              "      <td>4524.910733</td>\n",
              "      <td>0.809164</td>\n",
              "      <td>0.761068</td>\n",
              "      <td>0.67 (+/- 0.30)</td>\n",
              "      <td>0.57 (+/- 0.51)</td>\n",
              "      <td></td>\n",
              "    </tr>\n",
              "    <tr>\n",
              "      <th>287</th>\n",
              "      <td>linear_regression</td>\n",
              "      <td>[curb-weight, engine-size, width, horsepower, ...</td>\n",
              "      <td>4526.641605</td>\n",
              "      <td>0.809263</td>\n",
              "      <td>0.760886</td>\n",
              "      <td>0.67 (+/- 0.31)</td>\n",
              "      <td>0.57 (+/- 0.51)</td>\n",
              "      <td></td>\n",
              "    </tr>\n",
              "    <tr>\n",
              "      <th>303</th>\n",
              "      <td>linear_regression</td>\n",
              "      <td>[curb-weight, engine-size, width, horsepower, ...</td>\n",
              "      <td>4527.367831</td>\n",
              "      <td>0.809172</td>\n",
              "      <td>0.760809</td>\n",
              "      <td>0.67 (+/- 0.31)</td>\n",
              "      <td>0.56 (+/- 0.51)</td>\n",
              "      <td></td>\n",
              "    </tr>\n",
              "    <tr>\n",
              "      <th>317</th>\n",
              "      <td>linear_regression</td>\n",
              "      <td>[curb-weight, engine-size, width, horsepower, ...</td>\n",
              "      <td>4536.250599</td>\n",
              "      <td>0.809249</td>\n",
              "      <td>0.759869</td>\n",
              "      <td>0.67 (+/- 0.30)</td>\n",
              "      <td>0.57 (+/- 0.50)</td>\n",
              "      <td></td>\n",
              "    </tr>\n",
              "    <tr>\n",
              "      <th>285</th>\n",
              "      <td>linear_regression</td>\n",
              "      <td>[curb-weight, engine-size, width, horsepower, ...</td>\n",
              "      <td>4536.296010</td>\n",
              "      <td>0.809327</td>\n",
              "      <td>0.759865</td>\n",
              "      <td>0.67 (+/- 0.30)</td>\n",
              "      <td>0.57 (+/- 0.51)</td>\n",
              "      <td></td>\n",
              "    </tr>\n",
              "  </tbody>\n",
              "</table>\n",
              "</div>"
            ],
            "text/plain": [
              "                 Model  ... Note\n",
              "319  linear_regression  ...     \n",
              "287  linear_regression  ...     \n",
              "303  linear_regression  ...     \n",
              "317  linear_regression  ...     \n",
              "285  linear_regression  ...     \n",
              "\n",
              "[5 rows x 8 columns]"
            ]
          },
          "metadata": {
            "tags": []
          },
          "execution_count": 359
        }
      ]
    },
    {
      "cell_type": "code",
      "metadata": {
        "id": "u4s7I3oSAPEI",
        "outputId": "fa4cb511-28dc-49c9-b76f-a0d947d26590",
        "colab": {
          "base_uri": "https://localhost:8080/"
        }
      },
      "source": [
        "df_linear_reg.shape"
      ],
      "execution_count": null,
      "outputs": [
        {
          "output_type": "execute_result",
          "data": {
            "text/plain": [
              "(1024, 8)"
            ]
          },
          "metadata": {
            "tags": []
          },
          "execution_count": 372
        }
      ]
    },
    {
      "cell_type": "code",
      "metadata": {
        "id": "1Z2kpcsu1PHa"
      },
      "source": [
        "df_poly_reg = create_model('polynomial regression', '', df)"
      ],
      "execution_count": null,
      "outputs": []
    },
    {
      "cell_type": "code",
      "metadata": {
        "id": "a00wQQ7EAJhw",
        "outputId": "a50c4323-6ec1-40d4-e9be-a35572196f73",
        "colab": {
          "base_uri": "https://localhost:8080/"
        }
      },
      "source": [
        "df_poly_reg.shape"
      ],
      "execution_count": null,
      "outputs": [
        {
          "output_type": "execute_result",
          "data": {
            "text/plain": [
              "(9216, 8)"
            ]
          },
          "metadata": {
            "tags": []
          },
          "execution_count": 387
        }
      ]
    },
    {
      "cell_type": "code",
      "metadata": {
        "id": "JWh-hLYy23u1",
        "outputId": "ce740032-ce9e-48a5-bb43-6dd9ec41c28d",
        "colab": {
          "base_uri": "https://localhost:8080/",
          "height": 204
        }
      },
      "source": [
        "df_poly_reg.sort_values(ascending=False, by=['R2_test', '4-Fold Validation', '5-Fold Validation']).head(5)"
      ],
      "execution_count": null,
      "outputs": [
        {
          "output_type": "execute_result",
          "data": {
            "text/html": [
              "<div>\n",
              "<style scoped>\n",
              "    .dataframe tbody tr th:only-of-type {\n",
              "        vertical-align: middle;\n",
              "    }\n",
              "\n",
              "    .dataframe tbody tr th {\n",
              "        vertical-align: top;\n",
              "    }\n",
              "\n",
              "    .dataframe thead th {\n",
              "        text-align: right;\n",
              "    }\n",
              "</style>\n",
              "<table border=\"1\" class=\"dataframe\">\n",
              "  <thead>\n",
              "    <tr style=\"text-align: right;\">\n",
              "      <th></th>\n",
              "      <th>Model</th>\n",
              "      <th>Feature_details</th>\n",
              "      <th>RMSE</th>\n",
              "      <th>R2_train</th>\n",
              "      <th>R2_test</th>\n",
              "      <th>4-Fold Validation</th>\n",
              "      <th>5-Fold Validation</th>\n",
              "      <th>Note</th>\n",
              "    </tr>\n",
              "  </thead>\n",
              "  <tbody>\n",
              "    <tr>\n",
              "      <th>7192</th>\n",
              "      <td>polynomial regression with degree 3</td>\n",
              "      <td>[curb-weight, width, horsepower, city-mpg]</td>\n",
              "      <td>3136.419666</td>\n",
              "      <td>0.890085</td>\n",
              "      <td>0.885205</td>\n",
              "      <td>-0.47 (+/- 2.73)</td>\n",
              "      <td>-0.40 (+/- 1.39)</td>\n",
              "      <td></td>\n",
              "    </tr>\n",
              "    <tr>\n",
              "      <th>7480</th>\n",
              "      <td>polynomial regression with degree 3</td>\n",
              "      <td>[curb-weight, width, horsepower]</td>\n",
              "      <td>3301.615727</td>\n",
              "      <td>0.873786</td>\n",
              "      <td>0.872794</td>\n",
              "      <td>-0.11 (+/- 1.79)</td>\n",
              "      <td>0.40 (+/- 0.43)</td>\n",
              "      <td></td>\n",
              "    </tr>\n",
              "    <tr>\n",
              "      <th>7606</th>\n",
              "      <td>polynomial regression with degree 3</td>\n",
              "      <td>[curb-weight, width, city-mpg, highway-mpg, sy...</td>\n",
              "      <td>3368.335174</td>\n",
              "      <td>0.914707</td>\n",
              "      <td>0.867601</td>\n",
              "      <td>-0.47 (+/- 2.43)</td>\n",
              "      <td>-0.76 (+/- 1.29)</td>\n",
              "      <td></td>\n",
              "    </tr>\n",
              "    <tr>\n",
              "      <th>9101</th>\n",
              "      <td>polynomial regression with degree 4</td>\n",
              "      <td>[curb-weight, wheel-base, bore]</td>\n",
              "      <td>3369.165118</td>\n",
              "      <td>0.872549</td>\n",
              "      <td>0.867536</td>\n",
              "      <td>-0.69 (+/- 1.68)</td>\n",
              "      <td>-1.07 (+/- 2.03)</td>\n",
              "      <td></td>\n",
              "    </tr>\n",
              "    <tr>\n",
              "      <th>2385</th>\n",
              "      <td>polynomial regression with degree 2</td>\n",
              "      <td>[curb-weight, engine-size, width, horsepower, ...</td>\n",
              "      <td>3401.305879</td>\n",
              "      <td>0.919397</td>\n",
              "      <td>0.864997</td>\n",
              "      <td>0.42 (+/- 0.64)</td>\n",
              "      <td>0.33 (+/- 0.77)</td>\n",
              "      <td></td>\n",
              "    </tr>\n",
              "  </tbody>\n",
              "</table>\n",
              "</div>"
            ],
            "text/plain": [
              "                                    Model  ... Note\n",
              "7192  polynomial regression with degree 3  ...     \n",
              "7480  polynomial regression with degree 3  ...     \n",
              "7606  polynomial regression with degree 3  ...     \n",
              "9101  polynomial regression with degree 4  ...     \n",
              "2385  polynomial regression with degree 2  ...     \n",
              "\n",
              "[5 rows x 8 columns]"
            ]
          },
          "metadata": {
            "tags": []
          },
          "execution_count": 388
        }
      ]
    },
    {
      "cell_type": "markdown",
      "metadata": {
        "id": "-2rny2dJ3UXZ"
      },
      "source": [
        "Đối với mô hình Linear Regression:\n",
        "- Ta chọn 5 mô hình đầu tiên được sắp xếp giảm dần theo các giá trị R2 test, 4 fold validation, 5 fold validation. Là những mô hình tốt nhất trong khoảng 2^11 mô hình được thử. </br>\n",
        "- Các mô hình Linear Regression khá phù hợp, không có sự chênh lệch kết quả quá nhiều ở các tập train và tập test. \n",
        "\n",
        "Đối với mô hình Polynomial Regression:\n",
        "- Ta cũng chọn 5 mô hình đầu tiên theo tiêu chí giảm dần theo các giá trị R2 test, 4 fold validation, 5 fold, validation. Là những mô hình tốt nhất trong khoảng 2^11 * 9 (bậc) mô hình được thử.\n",
        "- Các mô hình này được thử với 9 bậc từ bậc 2 -> bậc 10.\n",
        "- Các mô hình Polynomial Regression được kiểm chứng chéo cho kết quả không tốt. \n",
        "\n",
        "\n",
        "Nhận xét:\n",
        "+ Tổng cộng có 10 mô hình tốt nhất theo mô hình hồi quy và hồi quy mũ.\n",
        "+ Chi tiết 10 mô hình là 2 bảng phía trên."
      ]
    }
  ]
}