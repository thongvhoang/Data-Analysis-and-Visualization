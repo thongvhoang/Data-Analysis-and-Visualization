{
  "nbformat": 4,
  "nbformat_minor": 0,
  "metadata": {
    "colab": {
      "name": "Lab5.ipynb",
      "provenance": [],
      "collapsed_sections": []
    },
    "kernelspec": {
      "name": "python3",
      "display_name": "Python 3"
    }
  },
  "cells": [
    {
      "cell_type": "markdown",
      "metadata": {
        "id": "DkoU3OQmmIVI"
      },
      "source": [
        "**Họ và tên: Võ Hoàng Thông </br>\n",
        "MSSV: 18521462 </br>\n",
        "Lab 5**"
      ]
    },
    {
      "cell_type": "markdown",
      "metadata": {
        "id": "ff52gEoPqMV8"
      },
      "source": [
        "**Câu 1. Tạo dataframe (df) lưu trữ dataset tại đường dẫn trên chọn cách đọc load từ internet. Xuất 10 samples bất kỳ. Dataset có bao nhiêu sample, số lượng bao nhiêu feature**"
      ]
    },
    {
      "cell_type": "code",
      "metadata": {
        "id": "iY7k9EC3qEck",
        "outputId": "e551baf6-b608-425e-c286-894298934b96",
        "colab": {
          "base_uri": "https://localhost:8080/",
          "height": 359
        }
      },
      "source": [
        "import pandas as pd\n",
        "import io\n",
        "from io import BytesIO\n",
        "from urllib.request import Request, urlopen\n",
        "link = 'https://raw.githubusercontent.com/datasethub/ds105/master/Lab_Model_Development.csv'\n",
        "url = Request(link, headers={'User-Agent': 'Mozilla/5.0'})\n",
        "df = pd.read_csv(BytesIO(urlopen(url).read()))\n",
        "df.sample(10)"
      ],
      "execution_count": 87,
      "outputs": [
        {
          "output_type": "execute_result",
          "data": {
            "text/html": [
              "<div>\n",
              "<style scoped>\n",
              "    .dataframe tbody tr th:only-of-type {\n",
              "        vertical-align: middle;\n",
              "    }\n",
              "\n",
              "    .dataframe tbody tr th {\n",
              "        vertical-align: top;\n",
              "    }\n",
              "\n",
              "    .dataframe thead th {\n",
              "        text-align: right;\n",
              "    }\n",
              "</style>\n",
              "<table border=\"1\" class=\"dataframe\">\n",
              "  <thead>\n",
              "    <tr style=\"text-align: right;\">\n",
              "      <th></th>\n",
              "      <th>curb-weight</th>\n",
              "      <th>engine-size</th>\n",
              "      <th>length</th>\n",
              "      <th>width</th>\n",
              "      <th>horsepower</th>\n",
              "      <th>city-mpg</th>\n",
              "      <th>highway-mpg</th>\n",
              "      <th>wheel-base</th>\n",
              "      <th>bore</th>\n",
              "      <th>price</th>\n",
              "    </tr>\n",
              "  </thead>\n",
              "  <tbody>\n",
              "    <tr>\n",
              "      <th>179</th>\n",
              "      <td>2209</td>\n",
              "      <td>109</td>\n",
              "      <td>0.825084</td>\n",
              "      <td>0.909722</td>\n",
              "      <td>85.000000</td>\n",
              "      <td>27</td>\n",
              "      <td>34</td>\n",
              "      <td>97.3</td>\n",
              "      <td>3.19</td>\n",
              "      <td>7975.0</td>\n",
              "    </tr>\n",
              "    <tr>\n",
              "      <th>126</th>\n",
              "      <td>2579</td>\n",
              "      <td>132</td>\n",
              "      <td>0.872177</td>\n",
              "      <td>0.923611</td>\n",
              "      <td>104.256158</td>\n",
              "      <td>23</td>\n",
              "      <td>31</td>\n",
              "      <td>96.1</td>\n",
              "      <td>3.46</td>\n",
              "      <td>9295.0</td>\n",
              "    </tr>\n",
              "    <tr>\n",
              "      <th>16</th>\n",
              "      <td>3505</td>\n",
              "      <td>209</td>\n",
              "      <td>0.946660</td>\n",
              "      <td>0.984722</td>\n",
              "      <td>182.000000</td>\n",
              "      <td>15</td>\n",
              "      <td>20</td>\n",
              "      <td>110.0</td>\n",
              "      <td>3.62</td>\n",
              "      <td>36880.0</td>\n",
              "    </tr>\n",
              "    <tr>\n",
              "      <th>59</th>\n",
              "      <td>2410</td>\n",
              "      <td>122</td>\n",
              "      <td>0.854397</td>\n",
              "      <td>0.923611</td>\n",
              "      <td>84.000000</td>\n",
              "      <td>26</td>\n",
              "      <td>32</td>\n",
              "      <td>98.8</td>\n",
              "      <td>3.39</td>\n",
              "      <td>10245.0</td>\n",
              "    </tr>\n",
              "    <tr>\n",
              "      <th>44</th>\n",
              "      <td>4066</td>\n",
              "      <td>258</td>\n",
              "      <td>0.959154</td>\n",
              "      <td>0.966667</td>\n",
              "      <td>176.000000</td>\n",
              "      <td>15</td>\n",
              "      <td>19</td>\n",
              "      <td>113.0</td>\n",
              "      <td>3.63</td>\n",
              "      <td>32250.0</td>\n",
              "    </tr>\n",
              "    <tr>\n",
              "      <th>111</th>\n",
              "      <td>3485</td>\n",
              "      <td>152</td>\n",
              "      <td>0.955790</td>\n",
              "      <td>0.950000</td>\n",
              "      <td>95.000000</td>\n",
              "      <td>25</td>\n",
              "      <td>25</td>\n",
              "      <td>114.2</td>\n",
              "      <td>3.70</td>\n",
              "      <td>17075.0</td>\n",
              "    </tr>\n",
              "    <tr>\n",
              "      <th>15</th>\n",
              "      <td>3380</td>\n",
              "      <td>209</td>\n",
              "      <td>0.931283</td>\n",
              "      <td>0.943056</td>\n",
              "      <td>182.000000</td>\n",
              "      <td>16</td>\n",
              "      <td>22</td>\n",
              "      <td>103.5</td>\n",
              "      <td>3.62</td>\n",
              "      <td>41315.0</td>\n",
              "    </tr>\n",
              "    <tr>\n",
              "      <th>110</th>\n",
              "      <td>3285</td>\n",
              "      <td>120</td>\n",
              "      <td>0.955790</td>\n",
              "      <td>0.950000</td>\n",
              "      <td>95.000000</td>\n",
              "      <td>19</td>\n",
              "      <td>24</td>\n",
              "      <td>114.2</td>\n",
              "      <td>3.46</td>\n",
              "      <td>16695.0</td>\n",
              "    </tr>\n",
              "    <tr>\n",
              "      <th>84</th>\n",
              "      <td>2403</td>\n",
              "      <td>110</td>\n",
              "      <td>0.828448</td>\n",
              "      <td>0.908333</td>\n",
              "      <td>116.000000</td>\n",
              "      <td>23</td>\n",
              "      <td>30</td>\n",
              "      <td>96.3</td>\n",
              "      <td>3.17</td>\n",
              "      <td>9279.0</td>\n",
              "    </tr>\n",
              "    <tr>\n",
              "      <th>196</th>\n",
              "      <td>2952</td>\n",
              "      <td>141</td>\n",
              "      <td>0.907256</td>\n",
              "      <td>0.956944</td>\n",
              "      <td>114.000000</td>\n",
              "      <td>23</td>\n",
              "      <td>28</td>\n",
              "      <td>109.1</td>\n",
              "      <td>3.78</td>\n",
              "      <td>16845.0</td>\n",
              "    </tr>\n",
              "  </tbody>\n",
              "</table>\n",
              "</div>"
            ],
            "text/plain": [
              "     curb-weight  engine-size    length  ...  wheel-base  bore    price\n",
              "179         2209          109  0.825084  ...        97.3  3.19   7975.0\n",
              "126         2579          132  0.872177  ...        96.1  3.46   9295.0\n",
              "16          3505          209  0.946660  ...       110.0  3.62  36880.0\n",
              "59          2410          122  0.854397  ...        98.8  3.39  10245.0\n",
              "44          4066          258  0.959154  ...       113.0  3.63  32250.0\n",
              "111         3485          152  0.955790  ...       114.2  3.70  17075.0\n",
              "15          3380          209  0.931283  ...       103.5  3.62  41315.0\n",
              "110         3285          120  0.955790  ...       114.2  3.46  16695.0\n",
              "84          2403          110  0.828448  ...        96.3  3.17   9279.0\n",
              "196         2952          141  0.907256  ...       109.1  3.78  16845.0\n",
              "\n",
              "[10 rows x 10 columns]"
            ]
          },
          "metadata": {
            "tags": []
          },
          "execution_count": 87
        }
      ]
    },
    {
      "cell_type": "markdown",
      "metadata": {
        "id": "rJJY436Kqm3Q"
      },
      "source": [
        "**Số lượng sample và số lượng feature của dataset**"
      ]
    },
    {
      "cell_type": "code",
      "metadata": {
        "id": "kj4zm4zpqtRQ",
        "outputId": "2af5921a-5a74-4d56-dbce-87bd9a57e6bc",
        "colab": {
          "base_uri": "https://localhost:8080/",
          "height": 51
        }
      },
      "source": [
        "print(\"Sample dataset: \",df.shape[0])\n",
        "print(\"Features dataset: \",df.shape[1])"
      ],
      "execution_count": 88,
      "outputs": [
        {
          "output_type": "stream",
          "text": [
            "Sample dataset:  201\n",
            "Features dataset:  10\n"
          ],
          "name": "stdout"
        }
      ]
    },
    {
      "cell_type": "markdown",
      "metadata": {
        "id": "q_dFsVS8q6cq"
      },
      "source": [
        "**Câu 2. Kiểm tra kiểu dữ liệu của các feature (curt-weight\", \"engine-size\", \"length', 'width', horsepower', city-mpg\", \"highway-mpg', 'wheel-base', 'bore') trong dataset có bị khuyết giá trị nào không?**"
      ]
    },
    {
      "cell_type": "code",
      "metadata": {
        "id": "1PpK3py1q2tC",
        "outputId": "bfa5a5a5-7628-4bc5-a89a-1ceb7294d910",
        "colab": {
          "base_uri": "https://localhost:8080/",
          "height": 34
        }
      },
      "source": [
        "if not(df.isnull().sum().any()):\n",
        "    print(\"Không khuyết giá trị\")\n",
        "else:\n",
        "    print(\"Khuyết giá trị\")"
      ],
      "execution_count": 89,
      "outputs": [
        {
          "output_type": "stream",
          "text": [
            "Không khuyết giá trị\n"
          ],
          "name": "stdout"
        }
      ]
    },
    {
      "cell_type": "code",
      "metadata": {
        "id": "5-CYJLXqsqca",
        "outputId": "7020a629-1203-4104-b23c-1adc7df75b88",
        "colab": {
          "base_uri": "https://localhost:8080/",
          "height": 68
        }
      },
      "source": [
        "df.columns"
      ],
      "execution_count": 90,
      "outputs": [
        {
          "output_type": "execute_result",
          "data": {
            "text/plain": [
              "Index(['curb-weight', 'engine-size', 'length', 'width', 'horsepower',\n",
              "       'city-mpg', 'highway-mpg', 'wheel-base', 'bore', 'price'],\n",
              "      dtype='object')"
            ]
          },
          "metadata": {
            "tags": []
          },
          "execution_count": 90
        }
      ]
    },
    {
      "cell_type": "markdown",
      "metadata": {
        "id": "5-hs7t5grYkS"
      },
      "source": [
        "**Câu 3. Phát triển mô hình Poynomial Regression bậc 3 để dự đoán giá xe từ biến \"highway-mpg (tên mô hình poly).**"
      ]
    },
    {
      "cell_type": "code",
      "metadata": {
        "id": "ukonN8w5uVyh"
      },
      "source": [
        "models = []"
      ],
      "execution_count": 91,
      "outputs": []
    },
    {
      "cell_type": "code",
      "metadata": {
        "id": "ROoDzpI_vDOp",
        "outputId": "d7fef1b8-d2b9-49cf-8f97-39ae1848ac1a",
        "colab": {
          "base_uri": "https://localhost:8080/",
          "height": 51
        }
      },
      "source": [
        "X = df[['highway-mpg']]\n",
        "y = df['price']\n",
        "poly = PolynomialFeatures(3)\n",
        "X_poly = poly.fit_transform(X)\n",
        "poly.fit(X_poly, y)"
      ],
      "execution_count": 92,
      "outputs": [
        {
          "output_type": "execute_result",
          "data": {
            "text/plain": [
              "PolynomialFeatures(degree=3, include_bias=True, interaction_only=False,\n",
              "                   order='C')"
            ]
          },
          "metadata": {
            "tags": []
          },
          "execution_count": 92
        }
      ]
    },
    {
      "cell_type": "code",
      "metadata": {
        "id": "L_H8nmjireVH",
        "outputId": "051f594d-950a-4729-f26a-ef432d5bedc4",
        "colab": {
          "base_uri": "https://localhost:8080/",
          "height": 51
        }
      },
      "source": [
        "import numpy as np\n",
        "poly = np.poly1d(np.polyfit(df['highway-mpg'], df['price'], 3))\n",
        "print(poly)"
      ],
      "execution_count": 93,
      "outputs": [
        {
          "output_type": "stream",
          "text": [
            "        3         2\n",
            "-1.557 x + 204.8 x - 8965 x + 1.379e+05\n"
          ],
          "name": "stdout"
        }
      ]
    },
    {
      "cell_type": "markdown",
      "metadata": {
        "id": "X5Ydl_W1uJzO"
      },
      "source": [
        "**Câu 4. Tính MSE và R^2 để đánh giá tập mẫu của mô hình poly bằng phương pháp thủ công. Phát họa distribution plot để đánh giá mô hình.**"
      ]
    },
    {
      "cell_type": "code",
      "metadata": {
        "id": "DXUbU_ggu21r"
      },
      "source": [
        "lm = LinearRegression()\n",
        "lm.fit(X_poly,y)\n",
        "models.append([lm,X_poly,y])"
      ],
      "execution_count": 94,
      "outputs": []
    },
    {
      "cell_type": "code",
      "metadata": {
        "id": "jwkYfKg405Kq"
      },
      "source": [
        "def mean_squared_error(y_true, y_pred):\n",
        "    residual = y_true - y_pred\n",
        "    MSE = (1/len(y_true))*np.sum(residual**2)\n",
        "    return MSE"
      ],
      "execution_count": 95,
      "outputs": []
    },
    {
      "cell_type": "code",
      "metadata": {
        "id": "hPZR4mCq1Rxb"
      },
      "source": [
        "def r2_score(y_true, y_pred):\n",
        "    residual = y_true - y_pred\n",
        "    SSR = np.sum(residual**2)\n",
        "    SST = np.sum((y_true - np.mean(y_true)) ** 2)\n",
        "    R2_score = 1 - SSR / SST\n",
        "    return R2_score"
      ],
      "execution_count": 96,
      "outputs": []
    },
    {
      "cell_type": "code",
      "metadata": {
        "id": "HEXmGHgtuXal",
        "outputId": "41973958-5e02-452c-f27c-779d1caf5e48",
        "colab": {
          "base_uri": "https://localhost:8080/",
          "height": 34
        }
      },
      "source": [
        "residual = df['price'].values - poly(df['highway-mpg'])\n",
        "MSE = (1/df.shape[0])*np.sum(residual**2)\n",
        "print(\"MSE = \", MSE)"
      ],
      "execution_count": 97,
      "outputs": [
        {
          "output_type": "stream",
          "text": [
            "MSE =  20474146.426361218\n"
          ],
          "name": "stdout"
        }
      ]
    },
    {
      "cell_type": "code",
      "metadata": {
        "id": "00vIQeCOx8-w",
        "outputId": "8bb02ddf-8ea5-402e-e662-cfad0c5ea7ec",
        "colab": {
          "base_uri": "https://localhost:8080/",
          "height": 34
        }
      },
      "source": [
        "SSR = np.sum(residual**2)\n",
        "SST = np.sum((df['price'].values - np.mean(df['price'].values)) ** 2)\n",
        "R2_score = 1 - SSR / SST \n",
        "print(\"R2 score = \", R2_score)"
      ],
      "execution_count": 98,
      "outputs": [
        {
          "output_type": "stream",
          "text": [
            "R2 score =  0.674194666390652\n"
          ],
          "name": "stdout"
        }
      ]
    },
    {
      "cell_type": "code",
      "metadata": {
        "id": "8WVDDFrB0HwB",
        "outputId": "ba3655aa-a8ee-428a-bd7c-d6f1af2354a7",
        "colab": {
          "base_uri": "https://localhost:8080/",
          "height": 433
        }
      },
      "source": [
        "import matplotlib.pyplot as plt\n",
        "import seaborn as sns\n",
        "fig, axes = plt.subplots(1, 1, figsize = (10, 5))\n",
        "ax1 = sns.distplot(df['price'], hist=False, color=\"r\", label=\"Actual Value\")\n",
        "sns.distplot(poly(df['highway-mpg']), hist = False, color = 'b', label = 'Fitted Values', ax = ax1)\n",
        "plt.show()"
      ],
      "execution_count": 99,
      "outputs": [
        {
          "output_type": "stream",
          "text": [
            "/usr/local/lib/python3.6/dist-packages/seaborn/distributions.py:2551: FutureWarning: `distplot` is a deprecated function and will be removed in a future version. Please adapt your code to use either `displot` (a figure-level function with similar flexibility) or `kdeplot` (an axes-level function for kernel density plots).\n",
            "  warnings.warn(msg, FutureWarning)\n",
            "/usr/local/lib/python3.6/dist-packages/seaborn/distributions.py:2551: FutureWarning: `distplot` is a deprecated function and will be removed in a future version. Please adapt your code to use either `displot` (a figure-level function with similar flexibility) or `kdeplot` (an axes-level function for kernel density plots).\n",
            "  warnings.warn(msg, FutureWarning)\n"
          ],
          "name": "stderr"
        },
        {
          "output_type": "display_data",
          "data": {
            "image/png": "[encoded data removed]",
            "text/plain": [
              "<Figure size 720x360 with 1 Axes>"
            ]
          },
          "metadata": {
            "tags": [],
            "needs_background": "light"
          }
        }
      ]
    },
    {
      "cell_type": "markdown",
      "metadata": {
        "id": "fAgZZyBI0rng"
      },
      "source": [
        "**Kết luận:** Mô hình khá phú hợp và tương đồng với dữ liệu thực tế "
      ]
    },
    {
      "cell_type": "markdown",
      "metadata": {
        "id": "q_bkjFBWzFJS"
      },
      "source": [
        "**Câu 5. Phát triển mô hình hồi quy tuyến tính đa biến để dự đoán giá xe từ biến \"horsepower', 'curbs-weight', 'engine-size' \"highway-mpg'**"
      ]
    },
    {
      "cell_type": "code",
      "metadata": {
        "id": "SN8F0LvixOU-",
        "outputId": "a634fc94-e65f-4a13-df44-c5943c64fd0e",
        "colab": {
          "base_uri": "https://localhost:8080/",
          "height": 34
        }
      },
      "source": [
        "from sklearn.linear_model import LinearRegression\n",
        "X = df[['horsepower', 'curb-weight', 'engine-size', 'highway-mpg']]\n",
        "reg = LinearRegression().fit(X, df['price'])\n",
        "print(reg)"
      ],
      "execution_count": 100,
      "outputs": [
        {
          "output_type": "stream",
          "text": [
            "LinearRegression(copy_X=True, fit_intercept=True, n_jobs=None, normalize=False)\n"
          ],
          "name": "stdout"
        }
      ]
    },
    {
      "cell_type": "code",
      "metadata": {
        "id": "w6yNcGCvvJAP"
      },
      "source": [
        "lm = LinearRegression()\n",
        "lm.fit(X,y)\n",
        "models.append([lm,X,y])"
      ],
      "execution_count": 101,
      "outputs": []
    },
    {
      "cell_type": "markdown",
      "metadata": {
        "id": "oNIF4ygq1i4x"
      },
      "source": [
        "**Câu 6. Tính MSE và R^2 để đánh giá tập mẫu của mô hình trên bằng phương pháp thủ công và gọi hàm. Phát họa distribution plot để đánh giá mô hình**"
      ]
    },
    {
      "cell_type": "markdown",
      "metadata": {
        "id": "_RgsIC3W2AAa"
      },
      "source": [
        "**Thủ công**"
      ]
    },
    {
      "cell_type": "code",
      "metadata": {
        "id": "kd7nWWaW1nvk",
        "outputId": "3f106d6e-d186-418b-b6b5-366cf64313a4",
        "colab": {
          "base_uri": "https://localhost:8080/",
          "height": 51
        }
      },
      "source": [
        "print(\"MSE = \", mean_squared_error(df['price'].values, reg.predict(X)))\n",
        "print(\"R2 score = \",r2_score(df['price'].values, reg.predict(X)))"
      ],
      "execution_count": 102,
      "outputs": [
        {
          "output_type": "stream",
          "text": [
            "MSE =  11980366.87072649\n",
            "R2 score =  0.8093562806577457\n"
          ],
          "name": "stdout"
        }
      ]
    },
    {
      "cell_type": "markdown",
      "metadata": {
        "id": "osTxA8zE2WhJ"
      },
      "source": [
        "**Gọi hàm**"
      ]
    },
    {
      "cell_type": "code",
      "metadata": {
        "id": "w2iiUWob2ZwE",
        "outputId": "2477078b-efa8-411f-b52f-c74ff16947fe",
        "colab": {
          "base_uri": "https://localhost:8080/",
          "height": 51
        }
      },
      "source": [
        "import sklearn.metrics as metrics\n",
        "print(\"MSE = \", metrics.mean_squared_error(df['price'].values, reg.predict(X)))\n",
        "print(\"R2 score = \", metrics.r2_score(df['price'].values, reg.predict(X)))"
      ],
      "execution_count": 103,
      "outputs": [
        {
          "output_type": "stream",
          "text": [
            "MSE =  11980366.87072649\n",
            "R2 score =  0.8093562806577457\n"
          ],
          "name": "stdout"
        }
      ]
    },
    {
      "cell_type": "code",
      "metadata": {
        "id": "C5kguyGJAfxg",
        "outputId": "d7ff14ca-2cae-49fd-d79d-f2d2a75ed7f6",
        "colab": {
          "base_uri": "https://localhost:8080/",
          "height": 433
        }
      },
      "source": [
        "import matplotlib.pyplot as plt\n",
        "import seaborn as sns\n",
        "fig, axes = plt.subplots(1, 1, figsize = (10, 5))\n",
        "ax1 = sns.distplot(df['price'], hist=False, color=\"r\", label=\"Actual Value\")\n",
        "sns.distplot(reg.predict(X), hist = False, color = 'b', label = 'Fitted Values', ax = ax1)\n",
        "plt.show()"
      ],
      "execution_count": 104,
      "outputs": [
        {
          "output_type": "stream",
          "text": [
            "/usr/local/lib/python3.6/dist-packages/seaborn/distributions.py:2551: FutureWarning: `distplot` is a deprecated function and will be removed in a future version. Please adapt your code to use either `displot` (a figure-level function with similar flexibility) or `kdeplot` (an axes-level function for kernel density plots).\n",
            "  warnings.warn(msg, FutureWarning)\n",
            "/usr/local/lib/python3.6/dist-packages/seaborn/distributions.py:2551: FutureWarning: `distplot` is a deprecated function and will be removed in a future version. Please adapt your code to use either `displot` (a figure-level function with similar flexibility) or `kdeplot` (an axes-level function for kernel density plots).\n",
            "  warnings.warn(msg, FutureWarning)\n"
          ],
          "name": "stderr"
        },
        {
          "output_type": "display_data",
          "data": {
            "image/png": "[encoded data removed]",
            "text/plain": [
              "<Figure size 720x360 with 1 Axes>"
            ]
          },
          "metadata": {
            "tags": [],
            "needs_background": "light"
          }
        }
      ]
    },
    {
      "cell_type": "markdown",
      "metadata": {
        "id": "Vf8ElKve3RRT"
      },
      "source": [
        "**Câu 7. Phát triển mô hình Polynomial Resession bậc 2 để dự đoán giá xe từ biến 'horsepower', 'curb-weight'engine-size', 'highway-mpg**"
      ]
    },
    {
      "cell_type": "code",
      "metadata": {
        "id": "3OzRdbKY3WL5"
      },
      "source": [
        "from sklearn.preprocessing import PolynomialFeatures\n",
        "X = df[['horsepower', 'curb-weight', 'engine-size', 'highway-mpg']]\n",
        "degree = 2\n",
        "pr = PolynomialFeatures(degree = degree, include_bias = False)\n",
        "X_poly = pr.fit_transform(X)\n",
        "poly_degree2 = LinearRegression().fit(X_poly, df['price'])"
      ],
      "execution_count": 105,
      "outputs": []
    },
    {
      "cell_type": "code",
      "metadata": {
        "id": "EFBA2BU76EFT",
        "outputId": "c900d378-c918-496c-f335-e7326e56011a",
        "colab": {
          "base_uri": "https://localhost:8080/",
          "height": 34
        }
      },
      "source": [
        "poly_degree2.intercept_"
      ],
      "execution_count": 106,
      "outputs": [
        {
          "output_type": "execute_result",
          "data": {
            "text/plain": [
              "-21262.848277788085"
            ]
          },
          "metadata": {
            "tags": []
          },
          "execution_count": 106
        }
      ]
    },
    {
      "cell_type": "code",
      "metadata": {
        "id": "IfKaP2zh6HaQ",
        "outputId": "d07013a8-fd95-49bb-e522-10430b0fa8c6",
        "colab": {
          "base_uri": "https://localhost:8080/",
          "height": 85
        }
      },
      "source": [
        "poly_degree2.coef_"
      ],
      "execution_count": 107,
      "outputs": [
        {
          "output_type": "execute_result",
          "data": {
            "text/plain": [
              "array([ 3.79990747e+02,  9.53081616e+00, -1.06265103e+02,  1.82168928e+02,\n",
              "        1.69423474e+00, -1.86864385e-01, -1.29043091e+00, -2.14860064e+00,\n",
              "        7.57100954e-04,  1.11910005e-01, -1.92007463e-01,  8.95252693e-02,\n",
              "        4.23869258e-02,  4.66019878e+00])"
            ]
          },
          "metadata": {
            "tags": []
          },
          "execution_count": 107
        }
      ]
    },
    {
      "cell_type": "markdown",
      "metadata": {
        "id": "C4weD94e6Q9y"
      },
      "source": [
        "**Câu 8. Tinh MSE và R2 để đánh giá tập mẫu của mô hình trên bằng phương pháp thủ công và gọi hàm Phát họa distribution plot để đánh giá mô hình.**"
      ]
    },
    {
      "cell_type": "markdown",
      "metadata": {
        "id": "Cpy3RPSB6YFt"
      },
      "source": [
        "**Thủ công**"
      ]
    },
    {
      "cell_type": "code",
      "metadata": {
        "id": "9IHs09I76aSG",
        "outputId": "db2db13b-daf2-40cb-df4b-b25ab812225c",
        "colab": {
          "base_uri": "https://localhost:8080/",
          "height": 51
        }
      },
      "source": [
        "print(\"MSE = \", mean_squared_error(df['price'].values, poly_degree2.predict(X_poly)))\n",
        "print(\"R2 score = \",r2_score(df['price'].values, poly_degree2.predict(X_poly)))"
      ],
      "execution_count": 108,
      "outputs": [
        {
          "output_type": "stream",
          "text": [
            "MSE =  9656613.4039896\n",
            "R2 score =  0.8463341969864728\n"
          ],
          "name": "stdout"
        }
      ]
    },
    {
      "cell_type": "markdown",
      "metadata": {
        "id": "nuKiSMEC6cG2"
      },
      "source": [
        "**Gọi hàm**"
      ]
    },
    {
      "cell_type": "code",
      "metadata": {
        "id": "WUcYOR2e6f-C",
        "outputId": "b504603f-862a-4040-c73b-906dc34e94a6",
        "colab": {
          "base_uri": "https://localhost:8080/",
          "height": 51
        }
      },
      "source": [
        "import sklearn.metrics as metrics\n",
        "print(\"MSE = \", metrics.mean_squared_error(df['price'].values, poly_degree2.predict(X_poly)))\n",
        "print(\"R2 score = \", metrics.r2_score(df['price'].values, poly_degree2.predict(X_poly)))"
      ],
      "execution_count": 109,
      "outputs": [
        {
          "output_type": "stream",
          "text": [
            "MSE =  9656613.4039896\n",
            "R2 score =  0.8463341969864728\n"
          ],
          "name": "stdout"
        }
      ]
    },
    {
      "cell_type": "code",
      "metadata": {
        "id": "Uc65Fsn5AbKf",
        "outputId": "55f4c7e1-a525-4876-8a80-ead6d6030845",
        "colab": {
          "base_uri": "https://localhost:8080/",
          "height": 433
        }
      },
      "source": [
        "import matplotlib.pyplot as plt\n",
        "import seaborn as sns\n",
        "fig, axes = plt.subplots(1, 1, figsize = (10, 5))\n",
        "ax1 = sns.distplot(df['price'], hist=False, color=\"r\", label=\"Actual Value\")\n",
        "sns.distplot(poly_degree2.predict(X_poly), hist = False, color = 'b', label = 'Fitted Values', ax = ax1)\n",
        "plt.show()"
      ],
      "execution_count": 110,
      "outputs": [
        {
          "output_type": "stream",
          "text": [
            "/usr/local/lib/python3.6/dist-packages/seaborn/distributions.py:2551: FutureWarning: `distplot` is a deprecated function and will be removed in a future version. Please adapt your code to use either `displot` (a figure-level function with similar flexibility) or `kdeplot` (an axes-level function for kernel density plots).\n",
            "  warnings.warn(msg, FutureWarning)\n",
            "/usr/local/lib/python3.6/dist-packages/seaborn/distributions.py:2551: FutureWarning: `distplot` is a deprecated function and will be removed in a future version. Please adapt your code to use either `displot` (a figure-level function with similar flexibility) or `kdeplot` (an axes-level function for kernel density plots).\n",
            "  warnings.warn(msg, FutureWarning)\n"
          ],
          "name": "stderr"
        },
        {
          "output_type": "display_data",
          "data": {
            "image/png": "[encoded data removed]",
            "text/plain": [
              "<Figure size 720x360 with 1 Axes>"
            ]
          },
          "metadata": {
            "tags": [],
            "needs_background": "light"
          }
        }
      ]
    },
    {
      "cell_type": "markdown",
      "metadata": {
        "id": "VbaQ3aOr9Bq8"
      },
      "source": [
        "**Câu 9. Thiết kế một pipeline để phát triển mô hình nô hình Polynomial Regression bậc 2 để dự đoán giá xe từ biển horsepowe, curb weight, engine size, \"highway-mpg. Trong pipeline thực hiện các công việc sau: Normalize,\n",
        "Transform -> feature, LinearRegression để fit tìm mô hình. Xuất mô hình\n",
        "vừa tìm được.**"
      ]
    },
    {
      "cell_type": "code",
      "metadata": {
        "id": "ovpOrC449QEx"
      },
      "source": [
        "from sklearn.preprocessing import PolynomialFeatures\n",
        "from sklearn.linear_model import LinearRegression\n",
        "from sklearn.preprocessing import StandardScaler\n",
        "from sklearn.pipeline import Pipeline"
      ],
      "execution_count": 111,
      "outputs": []
    },
    {
      "cell_type": "code",
      "metadata": {
        "id": "fRzVsG1-_AdW"
      },
      "source": [
        "X = df[['horsepower', 'curb-weight', 'engine-size', 'highway-mpg']]\n",
        "Y = df['price']"
      ],
      "execution_count": 112,
      "outputs": []
    },
    {
      "cell_type": "code",
      "metadata": {
        "id": "rSh7Rt7m-cug"
      },
      "source": [
        "Input = [('scale', StandardScaler()), \n",
        "         ('polynomial', PolynomialFeatures(include_bias=False)),\n",
        "         ('model', LinearRegression())]"
      ],
      "execution_count": 113,
      "outputs": []
    },
    {
      "cell_type": "code",
      "metadata": {
        "id": "4geYnhk4-z3-",
        "outputId": "b7647b26-fe23-4c40-8883-4507ba49117a",
        "colab": {
          "base_uri": "https://localhost:8080/",
          "height": 187
        }
      },
      "source": [
        "pipe = Pipeline(Input)\n",
        "pipe.fit(X, Y)"
      ],
      "execution_count": 114,
      "outputs": [
        {
          "output_type": "execute_result",
          "data": {
            "text/plain": [
              "Pipeline(memory=None,\n",
              "         steps=[('scale',\n",
              "                 StandardScaler(copy=True, with_mean=True, with_std=True)),\n",
              "                ('polynomial',\n",
              "                 PolynomialFeatures(degree=2, include_bias=False,\n",
              "                                    interaction_only=False, order='C')),\n",
              "                ('model',\n",
              "                 LinearRegression(copy_X=True, fit_intercept=True, n_jobs=None,\n",
              "                                  normalize=False))],\n",
              "         verbose=False)"
            ]
          },
          "metadata": {
            "tags": []
          },
          "execution_count": 114
        }
      ]
    },
    {
      "cell_type": "code",
      "metadata": {
        "id": "sE7F3Y8R_RIy",
        "outputId": "5a595434-41a8-4da2-c851-d8de40c3d9c9",
        "colab": {
          "base_uri": "https://localhost:8080/",
          "height": 34
        }
      },
      "source": [
        "ypipe = pipe.predict(X)\n",
        "pipe['model']"
      ],
      "execution_count": 115,
      "outputs": [
        {
          "output_type": "execute_result",
          "data": {
            "text/plain": [
              "LinearRegression(copy_X=True, fit_intercept=True, n_jobs=None, normalize=False)"
            ]
          },
          "metadata": {
            "tags": []
          },
          "execution_count": 115
        }
      ]
    },
    {
      "cell_type": "code",
      "metadata": {
        "id": "G-1x-ecetOhw"
      },
      "source": [
        "models.append([pipe,X,Y])"
      ],
      "execution_count": 116,
      "outputs": []
    },
    {
      "cell_type": "code",
      "metadata": {
        "id": "vzLYQLhVtH_Q"
      },
      "source": [
        "yhat = pipe.predict(X)"
      ],
      "execution_count": 117,
      "outputs": []
    },
    {
      "cell_type": "code",
      "metadata": {
        "id": "eo8RrkZvs_6R"
      },
      "source": [
        "def f(coefficients, intercept):\n",
        "  def term(coef, power):\n",
        "    coef = coef if coef != 1 else ''\n",
        "    power = (f'{power}')\n",
        "    return f'{coef}x{power}'\n",
        "  terms = []\n",
        "  for power, coef in enumerate(coefficients, start=1):\n",
        "    if coef != 0:\n",
        "      terms.append(term(coef, power))\n",
        "  return 'y = ' + str(intercept) + ' + ' + ' + '.join(terms)"
      ],
      "execution_count": 118,
      "outputs": []
    },
    {
      "cell_type": "code",
      "metadata": {
        "id": "y7zS71f-tB6y",
        "outputId": "970cb86d-2c5f-46c4-89ba-4ff4e6ae8506",
        "colab": {
          "base_uri": "https://localhost:8080/",
          "height": 54
        }
      },
      "source": [
        "print(f(pipe['model'].coef_, pipe['model'].intercept_))"
      ],
      "execution_count": 119,
      "outputs": [
        {
          "output_type": "stream",
          "text": [
            "y = 11649.375342855667 + 863.1134630852017x1 + 1230.3710256642391x2 + 2914.2854120669463x3 + -1626.9833804029868x4 + 2353.714349194228x5 + -3593.960683003887x6 + -1993.3325155154052x7 + -544.4251404267845x8 + 201.58916794774575x9 + 2393.208424999013x10 + -673.5458935195298x11 + 153.76427801168347x12 + 11.942058999508447x13 + 215.37198445678783x14\n"
          ],
          "name": "stdout"
        }
      ]
    },
    {
      "cell_type": "markdown",
      "metadata": {
        "id": "L90v2yH9BK2h"
      },
      "source": [
        "**Câu 10. Tìm khoảng giá trị được xem là vô lý trong các mô hình đã tìm thấy**"
      ]
    },
    {
      "cell_type": "markdown",
      "metadata": {
        "id": "Oj_x0KjPttNx"
      },
      "source": [
        "**Câu 11. Xếp hạng các mô hình đã phát triển ở các câu trên.**"
      ]
    },
    {
      "cell_type": "code",
      "metadata": {
        "id": "YMW5xZJOttvU"
      },
      "source": [
        "scores = [[model[0]['model'],model[0].score(model[1],model[2])] if isinstance(model[0], Pipeline) else [model[0],model[0].score(model[1],model[2])] for model in models]"
      ],
      "execution_count": 120,
      "outputs": []
    },
    {
      "cell_type": "code",
      "metadata": {
        "id": "BJ4IOBY4uHdD",
        "outputId": "b08cb345-1873-4402-8565-47bfd03b9b04",
        "colab": {
          "base_uri": "https://localhost:8080/",
          "height": 142
        }
      },
      "source": [
        "ranking = pd.DataFrame(scores,columns=['Model', 'R2 score'])\n",
        "ranking['Ranking'] = ranking['R2 score'].rank(ascending=False)\n",
        "ranking.sort_values(by='Ranking')"
      ],
      "execution_count": 121,
      "outputs": [
        {
          "output_type": "execute_result",
          "data": {
            "text/html": [
              "<div>\n",
              "<style scoped>\n",
              "    .dataframe tbody tr th:only-of-type {\n",
              "        vertical-align: middle;\n",
              "    }\n",
              "\n",
              "    .dataframe tbody tr th {\n",
              "        vertical-align: top;\n",
              "    }\n",
              "\n",
              "    .dataframe thead th {\n",
              "        text-align: right;\n",
              "    }\n",
              "</style>\n",
              "<table border=\"1\" class=\"dataframe\">\n",
              "  <thead>\n",
              "    <tr style=\"text-align: right;\">\n",
              "      <th></th>\n",
              "      <th>Model</th>\n",
              "      <th>R2 score</th>\n",
              "      <th>Ranking</th>\n",
              "    </tr>\n",
              "  </thead>\n",
              "  <tbody>\n",
              "    <tr>\n",
              "      <th>2</th>\n",
              "      <td>LinearRegression(copy_X=True, fit_intercept=Tr...</td>\n",
              "      <td>0.846334</td>\n",
              "      <td>1.0</td>\n",
              "    </tr>\n",
              "    <tr>\n",
              "      <th>1</th>\n",
              "      <td>LinearRegression(copy_X=True, fit_intercept=Tr...</td>\n",
              "      <td>0.809356</td>\n",
              "      <td>2.0</td>\n",
              "    </tr>\n",
              "    <tr>\n",
              "      <th>0</th>\n",
              "      <td>LinearRegression(copy_X=True, fit_intercept=Tr...</td>\n",
              "      <td>0.674195</td>\n",
              "      <td>3.0</td>\n",
              "    </tr>\n",
              "  </tbody>\n",
              "</table>\n",
              "</div>"
            ],
            "text/plain": [
              "                                               Model  R2 score  Ranking\n",
              "2  LinearRegression(copy_X=True, fit_intercept=Tr...  0.846334      1.0\n",
              "1  LinearRegression(copy_X=True, fit_intercept=Tr...  0.809356      2.0\n",
              "0  LinearRegression(copy_X=True, fit_intercept=Tr...  0.674195      3.0"
            ]
          },
          "metadata": {
            "tags": []
          },
          "execution_count": 121
        }
      ]
    },
    {
      "cell_type": "markdown",
      "metadata": {
        "id": "dzy0gbgGwRIt"
      },
      "source": [
        "**Câu 12. Phát triển 1 mô hình nào khác tốt hơn các mô hình tốt hơn các mô hình trên. Nếu có, chứng minh mô hình của bạn là tốt hơn.**\n"
      ]
    },
    {
      "cell_type": "code",
      "metadata": {
        "id": "br6nQtX8wRz8"
      },
      "source": [
        "features = ['engine-size', 'curb-weight', 'horsepower', 'width']"
      ],
      "execution_count": 122,
      "outputs": []
    },
    {
      "cell_type": "code",
      "metadata": {
        "id": "SRCnSb7UwT1j"
      },
      "source": [
        "X = df[features]\n",
        "y = df['price']"
      ],
      "execution_count": 123,
      "outputs": []
    },
    {
      "cell_type": "code",
      "metadata": {
        "id": "tVRMfa8-wVnV"
      },
      "source": [
        "pipe = Pipeline([('scale', StandardScaler()),('polynomial', PolynomialFeatures(include_bias=False)),('model',LinearRegression())])"
      ],
      "execution_count": 124,
      "outputs": []
    },
    {
      "cell_type": "code",
      "metadata": {
        "id": "MZanffFQwWvv",
        "outputId": "bce81e2b-1a8a-4527-8d57-2fc81e1ed830",
        "colab": {
          "base_uri": "https://localhost:8080/",
          "height": 34
        }
      },
      "source": [
        "pipe.fit(X,y)\n",
        "pipe.score(X,y)"
      ],
      "execution_count": 125,
      "outputs": [
        {
          "output_type": "execute_result",
          "data": {
            "text/plain": [
              "0.8684292548507997"
            ]
          },
          "metadata": {
            "tags": []
          },
          "execution_count": 125
        }
      ]
    },
    {
      "cell_type": "markdown",
      "metadata": {
        "id": "NvQxgdTHwZlE"
      },
      "source": [
        "**Câu 13. Viết hàm trả về kết quả dự đoán từ một hoặc nhiều feature thuộc 'curb-weight', 'engine-size', 'length', 'width', 'horsepower', 'city-mpg', 'highway-mpg', 'wheel-base', 'bore'.**"
      ]
    },
    {
      "cell_type": "code",
      "metadata": {
        "id": "h7LzlJAWwdOb"
      },
      "source": [
        "features = ['curb-weight', 'engine-size', 'length', 'width', 'horsepower', 'city-mpg', 'highway-mpg', 'wheel-base', 'bore']"
      ],
      "execution_count": 126,
      "outputs": []
    },
    {
      "cell_type": "code",
      "metadata": {
        "id": "4_bWWCrCweuj"
      },
      "source": [
        "corrs = [[feature,df[[feature,'price']].corr().iloc[0,1],abs(df[[feature,'price']].corr().iloc[0,1])] for feature in features] "
      ],
      "execution_count": 127,
      "outputs": []
    },
    {
      "cell_type": "code",
      "metadata": {
        "id": "4tsBgwXQwgst",
        "outputId": "f79bf66a-164d-4589-ac16-5febf2184f8d",
        "colab": {
          "base_uri": "https://localhost:8080/",
          "height": 328
        }
      },
      "source": [
        "corr_rank = pd.DataFrame(corrs, columns=['Feature','Correlation with \\'price\\'','Correlation strength']).sort_values(by='Correlation strength',ascending = False).iloc[:,:2]\n",
        "corr_rank"
      ],
      "execution_count": 128,
      "outputs": [
        {
          "output_type": "execute_result",
          "data": {
            "text/html": [
              "<div>\n",
              "<style scoped>\n",
              "    .dataframe tbody tr th:only-of-type {\n",
              "        vertical-align: middle;\n",
              "    }\n",
              "\n",
              "    .dataframe tbody tr th {\n",
              "        vertical-align: top;\n",
              "    }\n",
              "\n",
              "    .dataframe thead th {\n",
              "        text-align: right;\n",
              "    }\n",
              "</style>\n",
              "<table border=\"1\" class=\"dataframe\">\n",
              "  <thead>\n",
              "    <tr style=\"text-align: right;\">\n",
              "      <th></th>\n",
              "      <th>Feature</th>\n",
              "      <th>Correlation with 'price'</th>\n",
              "    </tr>\n",
              "  </thead>\n",
              "  <tbody>\n",
              "    <tr>\n",
              "      <th>1</th>\n",
              "      <td>engine-size</td>\n",
              "      <td>0.872335</td>\n",
              "    </tr>\n",
              "    <tr>\n",
              "      <th>0</th>\n",
              "      <td>curb-weight</td>\n",
              "      <td>0.834415</td>\n",
              "    </tr>\n",
              "    <tr>\n",
              "      <th>4</th>\n",
              "      <td>horsepower</td>\n",
              "      <td>0.809575</td>\n",
              "    </tr>\n",
              "    <tr>\n",
              "      <th>3</th>\n",
              "      <td>width</td>\n",
              "      <td>0.751265</td>\n",
              "    </tr>\n",
              "    <tr>\n",
              "      <th>6</th>\n",
              "      <td>highway-mpg</td>\n",
              "      <td>-0.704692</td>\n",
              "    </tr>\n",
              "    <tr>\n",
              "      <th>2</th>\n",
              "      <td>length</td>\n",
              "      <td>0.690628</td>\n",
              "    </tr>\n",
              "    <tr>\n",
              "      <th>5</th>\n",
              "      <td>city-mpg</td>\n",
              "      <td>-0.686571</td>\n",
              "    </tr>\n",
              "    <tr>\n",
              "      <th>7</th>\n",
              "      <td>wheel-base</td>\n",
              "      <td>0.584642</td>\n",
              "    </tr>\n",
              "    <tr>\n",
              "      <th>8</th>\n",
              "      <td>bore</td>\n",
              "      <td>0.543155</td>\n",
              "    </tr>\n",
              "  </tbody>\n",
              "</table>\n",
              "</div>"
            ],
            "text/plain": [
              "       Feature  Correlation with 'price'\n",
              "1  engine-size                  0.872335\n",
              "0  curb-weight                  0.834415\n",
              "4   horsepower                  0.809575\n",
              "3        width                  0.751265\n",
              "6  highway-mpg                 -0.704692\n",
              "2       length                  0.690628\n",
              "5     city-mpg                 -0.686571\n",
              "7   wheel-base                  0.584642\n",
              "8         bore                  0.543155"
            ]
          },
          "metadata": {
            "tags": []
          },
          "execution_count": 128
        }
      ]
    },
    {
      "cell_type": "code",
      "metadata": {
        "id": "nHTrJ0T3wh7y"
      },
      "source": [
        "features = corr_rank['Feature'].values"
      ],
      "execution_count": 129,
      "outputs": []
    },
    {
      "cell_type": "code",
      "metadata": {
        "id": "f1wYHRfLwjBB",
        "outputId": "54a533fa-38ac-4812-b5a3-6518c0d2625b",
        "colab": {
          "base_uri": "https://localhost:8080/",
          "height": 374
        }
      },
      "source": [
        "best_models = []\n",
        "for i in range(len(features)):\n",
        "  train_features = features[:i+1]\n",
        "  X = df[train_features]\n",
        "  y = df['price']\n",
        "  pipe = Pipeline([('scale', StandardScaler()),('polynomial', PolynomialFeatures(include_bias=False)),('model',LinearRegression())])\n",
        "  pipe.fit(X,y)\n",
        "  best_models.append(pipe)\n",
        "  print('Model {}:'.format(i),train_features)\n",
        "  print('r2_score:',pipe.score(X,y))"
      ],
      "execution_count": 130,
      "outputs": [
        {
          "output_type": "stream",
          "text": [
            "Model 0: ['engine-size']\n",
            "r2_score: 0.7610415105095263\n",
            "Model 1: ['engine-size' 'curb-weight']\n",
            "r2_score: 0.7997727362365323\n",
            "Model 2: ['engine-size' 'curb-weight' 'horsepower']\n",
            "r2_score: 0.8395026206980695\n",
            "Model 3: ['engine-size' 'curb-weight' 'horsepower' 'width']\n",
            "r2_score: 0.8684292548507997\n",
            "Model 4: ['engine-size' 'curb-weight' 'horsepower' 'width' 'highway-mpg']\n",
            "r2_score: 0.8705940245114754\n",
            "Model 5: ['engine-size' 'curb-weight' 'horsepower' 'width' 'highway-mpg' 'length']\n",
            "r2_score: 0.8902491655672402\n",
            "Model 6: ['engine-size' 'curb-weight' 'horsepower' 'width' 'highway-mpg' 'length'\n",
            " 'city-mpg']\n",
            "r2_score: 0.9318470083640792\n",
            "Model 7: ['engine-size' 'curb-weight' 'horsepower' 'width' 'highway-mpg' 'length'\n",
            " 'city-mpg' 'wheel-base']\n",
            "r2_score: 0.9363293217809677\n",
            "Model 8: ['engine-size' 'curb-weight' 'horsepower' 'width' 'highway-mpg' 'length'\n",
            " 'city-mpg' 'wheel-base' 'bore']\n",
            "r2_score: 0.9442981562836934\n"
          ],
          "name": "stdout"
        }
      ]
    },
    {
      "cell_type": "code",
      "metadata": {
        "id": "lL_HfTaSwwII"
      },
      "source": [
        "prompt = '---> Chọn (vài) feature trong những feature sau và nhập dữ liệu cho feature đó: \\n'\n",
        "for i in range(len(features)):\n",
        "    prompt += '{}: {}, '.format(i, features[i])\n",
        "prompt += '\\n---> Ví dụ nhập:\\n5 0.8566 3 0.9201 2 129\\nđể nhập dữ liệu cho 3 feature \\'length\\',\\'width\\',\\'horsepower\\'.\\n'\n",
        "inputs = input(prompt).split()\n",
        "input_data = [] \n",
        "for i in range(len(inputs)//2):\n",
        "    input_data.append([int(inputs[2*i]),float(inputs[2*i+1])])"
      ],
      "execution_count": null,
      "outputs": []
    },
    {
      "cell_type": "code",
      "metadata": {
        "id": "KkThZmVOwmbJ"
      },
      "source": [
        "def predict(X_data):\n",
        "  lowest_corr_feature = max([input[0] for input in input_data])\n",
        "  train_features = features[:lowest_corr_feature+1]\n",
        "  print('Model đã được dùng là model polynomial gồm các biến:',train_features)\n",
        "  default_sample = [df[feature].quantile(0.5) for feature in train_features]\n",
        "  for data in X_data:\n",
        "      default_sample[data[0]] = data[1]\n",
        "  yhat = best_models[lowest_corr_feature].predict([default_sample])[0]\n",
        "  return yhat"
      ],
      "execution_count": 131,
      "outputs": []
    },
    {
      "cell_type": "code",
      "metadata": {
        "id": "klcq5ZYFwn81"
      },
      "source": [
        "predicted_value = predict(input_data)\n",
        "print('---> Với sample vừa nhập, kết quả dự đoán \\'price\\' là {}'.format(predicted_value if predicted_value>=0 else 'một kết quả vô lý vì bạn vừa nhập dữ liệu sai.'))"
      ],
      "execution_count": null,
      "outputs": []
    }
  ]
}